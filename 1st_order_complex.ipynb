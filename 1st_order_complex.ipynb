{
  "nbformat": 4,
  "nbformat_minor": 0,
  "metadata": {
    "kernelspec": {
      "display_name": "Python 3",
      "language": "python",
      "name": "python3"
    },
    "language_info": {
      "codemirror_mode": {
        "name": "ipython",
        "version": 3
      },
      "file_extension": ".py",
      "mimetype": "text/x-python",
      "name": "python",
      "nbconvert_exporter": "python",
      "pygments_lexer": "ipython3",
      "version": "3.8.5"
    },
    "colab": {
      "name": "1st order complex.ipynb",
      "provenance": [],
      "collapsed_sections": [
        "Bhg6WT4mLvaW",
        "UTqnytbRLvaX",
        "d56AB8rHLvaY",
        "NkntT44cLvaZ",
        "Z2dWcFZLLvaa",
        "S33kPa6tLvab",
        "si6yTvE2Lvac"
      ]
    }
  },
  "cells": [
    {
      "cell_type": "code",
      "metadata": {
        "id": "5UQuvC3MLvaB"
      },
      "source": [
        "import numpy as np\n",
        "import matplotlib.pyplot as plt\n",
        "from mpl_toolkits.axes_grid1.inset_locator import zoomed_inset_axes\n",
        "from mpl_toolkits.axes_grid1.inset_locator import mark_inset\n",
        "\n",
        "\n",
        "font = {'color':  'blue',\n",
        "        'weight': 'normal',\n",
        "        'size': 20,\n",
        "        }"
      ],
      "execution_count": 1,
      "outputs": []
    },
    {
      "cell_type": "code",
      "metadata": {
        "id": "-An6F34BLvaI"
      },
      "source": [
        "def module(z):\n",
        "    mod = np.sqrt(z*np.conjugate(z))\n",
        "    return mod\n",
        "\n",
        "def conj(z):\n",
        "    con = np.conjugate(z)\n",
        "    return con"
      ],
      "execution_count": 2,
      "outputs": []
    },
    {
      "cell_type": "code",
      "metadata": {
        "id": "Hd02zurZLvaJ"
      },
      "source": [
        "def integral_simps_of_two_arrays(ys, xs):\n",
        "    x_range = []\n",
        "    y_range = []\n",
        "    results = []\n",
        "    for x in range(len(xs)):\n",
        "        x_range.append(xs[x])\n",
        "        y_range.append(ys[x])\n",
        "        integral = integrate.simps(y_range, x_range)\n",
        "        results.append(integral)\n",
        "    results = np.array(results)\n",
        "    return results"
      ],
      "execution_count": 3,
      "outputs": []
    },
    {
      "cell_type": "markdown",
      "metadata": {
        "id": "9Jve1KhcLvaJ"
      },
      "source": [
        "### Units: \n",
        "#### $c = \\hbar = 1$ and $M_{PL}$"
      ]
    },
    {
      "cell_type": "code",
      "metadata": {
        "colab": {
          "base_uri": "https://localhost:8080/"
        },
        "id": "tyRM6mtqLvaK",
        "outputId": "e3dc59c2-64de-4ddb-e2e0-938cf3b8069a"
      },
      "source": [
        "c = np.float64(1.0) #Speed of light\n",
        "G = np.float64(1.0) #Gravitational constant\n",
        "\n",
        "\n",
        "kappa_c = np.float64(1.0/3.0)\n",
        "\n",
        "#   ln(10^10 As) = 3.040 ± 0.016\n",
        "ns = 0.9665 #Spectral scalar index\n",
        "As = np.exp(3.040)/(10.0**10.0)\n",
        "\n",
        "\n",
        "k0 = 0.05/((8.06554393734921*(10.0**5.0))*(10.0**8.0)*(3.24078**23.0))         # 0.05 Mpc^-1  \n",
        "#             mtrs            eV \n",
        "\n",
        "#H_end = ((k0/a_end)**((1.0-ns)/(3.0-ns)))*(9.0*(np.pi**2.0)*As)**(1.0/(3.0-ns))  #At the end of inflation in M_pl\n",
        "\n",
        "\n",
        "#H_end = np.float64((10.0**-10.0)/np.sqrt(3.0)) #Mpl      \n",
        "\n",
        "H_end = np.float64((10.0**-9)/np.sqrt(3.0)) #Mpl\n",
        "Pc_0 = 0.0\n",
        "n = 10.0\n",
        "e_folds = 3.0\n",
        "mu_val = n*H_end  # In M_pl units\n",
        "t_end = 2.0/(3.0*H_end)   # 10^-32  segundos\n",
        "t_f = t_end*np.exp(3.0*e_folds/2.0)\n",
        "\n",
        "\n",
        "\n",
        "rho_end = 3.0*(H_end**2.0)    #Mpl^4\n",
        "\n",
        "H_end, rho_end, e_folds"
      ],
      "execution_count": 4,
      "outputs": [
        {
          "output_type": "execute_result",
          "data": {
            "text/plain": [
              "(5.773502691896259e-10, 1.0000000000000005e-18, 3.0)"
            ]
          },
          "metadata": {
            "tags": []
          },
          "execution_count": 4
        }
      ]
    },
    {
      "cell_type": "code",
      "metadata": {
        "colab": {
          "base_uri": "https://localhost:8080/"
        },
        "id": "uPfFneTbLvaM",
        "outputId": "27d77317-74b6-490f-d8f6-7c2e13d399a3"
      },
      "source": [
        "H_end_GeV = H_end*((2.435)*10.0**(18.0))\n",
        "H_end_GeV < 8.0*(10.0**(13.0))"
      ],
      "execution_count": 5,
      "outputs": [
        {
          "output_type": "execute_result",
          "data": {
            "text/plain": [
              "True"
            ]
          },
          "metadata": {
            "tags": []
          },
          "execution_count": 5
        }
      ]
    },
    {
      "cell_type": "code",
      "metadata": {
        "colab": {
          "base_uri": "https://localhost:8080/"
        },
        "id": "FjIyV8FwLvaM",
        "outputId": "ea9d0d85-54f5-40c0-a193-1f3e1579fc47"
      },
      "source": [
        "H_end_GeV/10.0**12.0"
      ],
      "execution_count": 6,
      "outputs": [
        {
          "output_type": "execute_result",
          "data": {
            "text/plain": [
              "0.001405847905476739"
            ]
          },
          "metadata": {
            "tags": []
          },
          "execution_count": 6
        }
      ]
    },
    {
      "cell_type": "code",
      "metadata": {
        "colab": {
          "base_uri": "https://localhost:8080/"
        },
        "id": "pLcVMfjjLvaP",
        "outputId": "09ffd2e8-aa32-4d92-9f1f-a2d44b27aab4"
      },
      "source": [
        "t_f/t_end"
      ],
      "execution_count": 7,
      "outputs": [
        {
          "output_type": "execute_result",
          "data": {
            "text/plain": [
              "90.01713130052181"
            ]
          },
          "metadata": {
            "tags": []
          },
          "execution_count": 7
        }
      ]
    },
    {
      "cell_type": "markdown",
      "metadata": {
        "id": "uzG9SDYbLvaP"
      },
      "source": [
        "# $T_{r}$\n",
        "\n",
        "## $\\rho_r = \\dfrac{\\pi}{30} g_* T_r^4$\n",
        "\n",
        "# During oscillatory stage\n",
        "\n",
        "## $\\dfrac{H_{end}}{H_r} = \\dfrac{\\rho_{end}}{\\rho_r} = \\left(\\dfrac{a_{r}}{a_{end}} \\right)^3 = \\dfrac{\\rho_{end}}{\\dfrac{\\pi}{30} g_* T_r^4}  = e^{3N}$\n",
        "\n",
        "\n",
        "# while retaining successful Big Bang Nucleosynthesis (BBN) \n",
        "# requires $T_r > 4$ MeV = 0.004 GeV. \n",
        "https://arxiv.org/pdf/1804.08639.pdf"
      ]
    },
    {
      "cell_type": "code",
      "metadata": {
        "colab": {
          "base_uri": "https://localhost:8080/"
        },
        "id": "StzH31NKLvaQ",
        "outputId": "322df4b3-e437-49e7-ad18-55c2916d502e"
      },
      "source": [
        "g_star = 120.0\n",
        "T_r = (np.exp(-3.0*e_folds/4.0))*((30.0*rho_end)/(g_star*np.pi))**(1.0/4.0)\n",
        "T_r_GeV = T_r*(((2.435)*10.0**(18.0))/10.0**12)\n",
        "T_r_GeV"
      ],
      "execution_count": 8,
      "outputs": [
        {
          "output_type": "execute_result",
          "data": {
            "text/plain": [
              "4.310562190685055"
            ]
          },
          "metadata": {
            "tags": []
          },
          "execution_count": 8
        }
      ]
    },
    {
      "cell_type": "code",
      "metadata": {
        "colab": {
          "base_uri": "https://localhost:8080/"
        },
        "id": "zGCcDz8BLvaR",
        "outputId": "97f86d77-ad54-4674-d5e0-5970a7552c75"
      },
      "source": [
        "T_r_GeV > 0.0004"
      ],
      "execution_count": 9,
      "outputs": [
        {
          "output_type": "execute_result",
          "data": {
            "text/plain": [
              "True"
            ]
          },
          "metadata": {
            "tags": []
          },
          "execution_count": 9
        }
      ]
    },
    {
      "cell_type": "markdown",
      "metadata": {
        "id": "pyjWe_OxLvaS"
      },
      "source": [
        "# During matter-radiation equality:\n",
        "\n",
        "# $\\rho_r = \\rho_{eq} \\left(\\dfrac{a_r}{a_{eq}} \\right)^{-4} $\n",
        "\n",
        "# According with Planck 2018\n",
        "\n",
        "### $z_{eq} \\approx  3387 $\n",
        "### $\\Omega_m \\approx 0.3158 $\n",
        "\n",
        "\n",
        "# $ \\rho_{eq} \\left(\\dfrac{a_{eq}}{a_{r}} \\right)^{4} = \\dfrac{\\pi}{30} g_* T_r^4 $"
      ]
    },
    {
      "cell_type": "code",
      "metadata": {
        "colab": {
          "base_uri": "https://localhost:8080/"
        },
        "id": "D6Jal3b6LvaS",
        "outputId": "76819ad0-82bd-47a2-c07f-50fb715670c2"
      },
      "source": [
        "a_eq = 1.0/3387.0\n",
        "omega_eq_m = 0.5\n",
        "H_0 = 67.32\n",
        "H_0_Mpl = (1.118*np.sqrt(8.0*np.pi))*10**(-61)\n",
        "\n",
        "rho_eq = 6.0*omega_eq_m*(H_0_Mpl**2.0)/a_eq**3.0\n",
        "a_f = ((30.0*rho_eq/(np.pi*g_star*T_r**4.0))**(1.0/4.0))\n",
        "a_f"
      ],
      "execution_count": 10,
      "outputs": [
        {
          "output_type": "execute_result",
          "data": {
            "text/plain": [
              "1.3124572375688333e-22"
            ]
          },
          "metadata": {
            "tags": []
          },
          "execution_count": 10
        }
      ]
    },
    {
      "cell_type": "code",
      "metadata": {
        "colab": {
          "base_uri": "https://localhost:8080/"
        },
        "id": "DACNhyMQLvaS",
        "outputId": "3ae71b14-a0a2-43dd-cbcb-9cebfd74d960"
      },
      "source": [
        "a_end = a_f*np.exp(-e_folds)\n",
        "a_end"
      ],
      "execution_count": 11,
      "outputs": [
        {
          "output_type": "execute_result",
          "data": {
            "text/plain": [
              "6.534339821673736e-24"
            ]
          },
          "metadata": {
            "tags": []
          },
          "execution_count": 11
        }
      ]
    },
    {
      "cell_type": "code",
      "metadata": {
        "id": "7wQJLdITLvaT"
      },
      "source": [
        "#H_end = (((a_end/k0)**((1.0-ns)/(3.0-ns))))*((9.0*(np.pi**2.0)*As)**(1.0/(3.0-ns)))  #At the end of inflation in M_pl\n",
        "#H_end"
      ],
      "execution_count": 12,
      "outputs": []
    },
    {
      "cell_type": "code",
      "metadata": {
        "id": "PsNMAvlSLvaT"
      },
      "source": [
        "NN = 100\n",
        "\n",
        "Hend_array = np.zeros(NN)\n",
        "\n",
        "\n",
        "Hend_array[0] = 0.5*np.float64(10.0**(-10.0))\n",
        "\n",
        "for ii in range(NN-1):\n",
        "    Hend_array[ii+1] = Hend_array[ii]*1.3\n",
        "    \n",
        "Hend_array = Hend_array[Hend_array < 10**-1]\n",
        "            \n",
        "e_folds_array = np.linspace(0.0,10, len(Hend_array))"
      ],
      "execution_count": 13,
      "outputs": []
    },
    {
      "cell_type": "code",
      "metadata": {
        "colab": {
          "base_uri": "https://localhost:8080/"
        },
        "id": "uncVXuPoLvaT",
        "outputId": "f42c1d01-a7b4-4053-83f5-72765b097f68"
      },
      "source": [
        "Hend_arr, e_folds_arr = np.meshgrid(Hend_array, e_folds_array)\n",
        "rhoend_array = 3.0*(Hend_arr**2.0)/(8.0*np.pi) \n",
        "Tr_array = (np.exp(-3.0*e_folds_arr/4.0))*((Hend_arr**2.0)/3.0)**(1.0/4.0)\n",
        "np.min(Tr_array)"
      ],
      "execution_count": 14,
      "outputs": [
        {
          "output_type": "execute_result",
          "data": {
            "text/plain": [
              "2.971639169612121e-09"
            ]
          },
          "metadata": {
            "tags": []
          },
          "execution_count": 14
        }
      ]
    },
    {
      "cell_type": "code",
      "metadata": {
        "colab": {
          "base_uri": "https://localhost:8080/"
        },
        "id": "WPTLV2SMLvaU",
        "outputId": "695235ad-418a-491d-f793-eb8838399bfb"
      },
      "source": [
        "H_end, e_folds"
      ],
      "execution_count": 15,
      "outputs": [
        {
          "output_type": "execute_result",
          "data": {
            "text/plain": [
              "(5.773502691896259e-10, 3.0)"
            ]
          },
          "metadata": {
            "tags": []
          },
          "execution_count": 15
        }
      ]
    },
    {
      "cell_type": "code",
      "metadata": {
        "id": "buuibwb6LvaU"
      },
      "source": [
        "H_sat = (10.0**-2, 10.0**-3.0, 10.0**-4.0, 10.0**-5.0, 10.0**-6.0, 10.0**-7.0, 10.0**-8.0, 10.0**-9.0, 10**-10.0)/np.sqrt(3.0)\n",
        "N_sat = (0.005, 0.64, 1.28, 1.96, 2.68, 3.43, 4.2, 4.95,6.05)"
      ],
      "execution_count": 16,
      "outputs": []
    },
    {
      "cell_type": "code",
      "metadata": {
        "id": "kT4GIDwiLvaU"
      },
      "source": [
        "from matplotlib import ticker, cm"
      ],
      "execution_count": 17,
      "outputs": []
    },
    {
      "cell_type": "code",
      "metadata": {
        "colab": {
          "base_uri": "https://localhost:8080/",
          "height": 536
        },
        "id": "Xu6Jt-pELvaV",
        "outputId": "31ee44a3-55bf-4457-d3f4-df2ee60292fb"
      },
      "source": [
        "figure, ax = plt.subplots(1, 1,figsize = (12,8),  sharex=True)\n",
        "\n",
        "plt.contourf(Hend_arr,e_folds_arr, Tr_array*((2.435)*10.0**(18.0)), 1,  cmap='coolwarm_r',locator=ticker.LogLocator())\n",
        "plt.plot(H_sat, N_sat, '-', lw=2.0,  color = 'black')\n",
        "#plt.xscale('log')\n",
        "plt.xscale('log')\n",
        "\n",
        "plt.ylabel(r'e-fold number $N$',fontsize=25)\n",
        "plt.xlabel(r'$H_{end} \\ \\ [Mpl]$',fontsize=25)\n",
        "\n",
        "plt.xticks(fontsize=20)\n",
        "plt.yticks(fontsize=20)\n",
        "\n",
        "#plt.axvline(x=0.004, color='white', linestyle='-')\n",
        "#plt.axvline(x=10.0**7.0, color='white', linestyle='-')\n",
        "\n",
        "#plt.axvline(x=T_r_GeV, color='magenta', linestyle='-')\n",
        "\n",
        "#plt.axhline(y=10.0**13.0, color='white', linestyle='-')\n",
        "#plt.axhline(y=H_end, color='magenta', linestyle='-')\n",
        "\n",
        "\n",
        "plt.text(0.8*10.0**(-7.0), 4.0 , r'Saturation curve', {'color': 'black', 'fontsize': 15})\n",
        "\n",
        "\n",
        "\n",
        "plt.ylim(0,10)\n",
        "cbar = plt.colorbar()\n",
        "cbar.set_label(r'$\\Lambda_{osc} \\ \\ [GeV]$' , fontsize=25,)\n",
        "\n",
        "font_size = 20 # Adjust as appropriate.\n",
        "cbar.ax.tick_params(labelsize=font_size)\n",
        "\n",
        "\n",
        "plt.savefig('contour.pdf')\n",
        "plt.show()"
      ],
      "execution_count": 18,
      "outputs": [
        {
          "output_type": "display_data",
          "data": {
            "image/png": "[encoded data removed]",
            "text/plain": [
              "<Figure size 864x576 with 2 Axes>"
            ]
          },
          "metadata": {
            "tags": [],
            "needs_background": "light"
          }
        }
      ]
    },
    {
      "cell_type": "markdown",
      "metadata": {
        "id": "Bhg6WT4mLvaW"
      },
      "source": [
        "# Initial condition for Complex case"
      ]
    },
    {
      "cell_type": "code",
      "metadata": {
        "colab": {
          "base_uri": "https://localhost:8080/"
        },
        "id": "M_QLWDiiLvaW",
        "outputId": "7494329e-8af5-458c-8ec9-f5939280dd95"
      },
      "source": [
        "Csqrt = (a_end**(3./2.))*np.sqrt((H_end**2.0) - (Pc_0*kappa_c))\n",
        "\n",
        "numer_complex = Csqrt\n",
        "\n",
        "denom_complex = np.sqrt(2.0*kappa_c)*mu_val*np.exp(1j*((mu_val*t_end)))\n",
        "\n",
        "C1 = numer_complex/denom_complex\n",
        "\n",
        "phi_complex0 = ((C1*np.exp(1j*((mu_val*t_end))))*(a_end**(-3./2.))).real\n",
        "Pi_complex0 = (C1*1j*mu_val*np.exp(1j*((mu_val*t_end)))) - (phi_complex0/t_end)\n",
        "\n",
        "print('Complex initial values: \\n' )\n",
        "phi_complex0, Pi_complex0"
      ],
      "execution_count": 19,
      "outputs": [
        {
          "output_type": "stream",
          "text": [
            "Complex initial values: \n",
            "\n"
          ],
          "name": "stdout"
        },
        {
          "output_type": "execute_result",
          "data": {
            "text/plain": [
              "(0.12247448713915894, (-1.0606601717798219e-10+1.1811024674998382e-44j))"
            ]
          },
          "metadata": {
            "tags": []
          },
          "execution_count": 19
        }
      ]
    },
    {
      "cell_type": "code",
      "metadata": {
        "scrolled": true,
        "colab": {
          "base_uri": "https://localhost:8080/"
        },
        "id": "OO7LLaWhLvaW",
        "outputId": "202f64d8-326f-46dc-8ad5-7171af34e209"
      },
      "source": [
        "T = 3.0/(2.0*n)\n",
        "\n",
        "#Step size\n",
        "step_size = T/10.\n",
        "\n",
        "tau_0 = 1.0 \n",
        "tau_f = t_f/t_end\n",
        "N = int((tau_f-tau_0)/step_size)\n",
        "N"
      ],
      "execution_count": 20,
      "outputs": [
        {
          "output_type": "execute_result",
          "data": {
            "text/plain": [
              "5934"
            ]
          },
          "metadata": {
            "tags": []
          },
          "execution_count": 20
        }
      ]
    },
    {
      "cell_type": "code",
      "metadata": {
        "colab": {
          "base_uri": "https://localhost:8080/"
        },
        "id": "nRx6kvmCLvaW",
        "outputId": "4e6ca7b9-23b4-4233-8f5f-2eba1c803cc8"
      },
      "source": [
        "t_array = np.linspace(tau_0,tau_f,N)*t_end\n",
        "t_array"
      ],
      "execution_count": 21,
      "outputs": [
        {
          "output_type": "execute_result",
          "data": {
            "text/plain": [
              "array([1.15470054e+09, 1.17202535e+09, 1.18935017e+09, ...,\n",
              "       1.03908180e+11, 1.03925505e+11, 1.03942830e+11])"
            ]
          },
          "metadata": {
            "tags": []
          },
          "execution_count": 21
        }
      ]
    },
    {
      "cell_type": "code",
      "metadata": {
        "id": "H9sWtwosLvaW"
      },
      "source": [
        "#Complex\n",
        "phi_complex = (C1*np.exp(1j*((mu_val*t_array))))*(a_end**(-3./2.))*t_end/t_array\n",
        "Pi_complex = (1j*mu_val*phi_complex) - (phi_complex/t_array)"
      ],
      "execution_count": 22,
      "outputs": []
    },
    {
      "cell_type": "code",
      "metadata": {
        "colab": {
          "base_uri": "https://localhost:8080/"
        },
        "id": "sDRy33PxLvaW",
        "outputId": "df64ad1a-e359-4987-b110-3e57ee25ad3a"
      },
      "source": [
        "Pi_complex0, Pi_complex[0]"
      ],
      "execution_count": 23,
      "outputs": [
        {
          "output_type": "execute_result",
          "data": {
            "text/plain": [
              "((-1.0606601717798219e-10+1.1811024674998382e-44j),\n",
              " (-1.0606601717798219e-10+7.071067811865479e-10j))"
            ]
          },
          "metadata": {
            "tags": []
          },
          "execution_count": 23
        }
      ]
    },
    {
      "cell_type": "markdown",
      "metadata": {
        "id": "UTqnytbRLvaX"
      },
      "source": [
        "# $H^2$"
      ]
    },
    {
      "cell_type": "code",
      "metadata": {
        "id": "_S2Awm3nLvaX"
      },
      "source": [
        "H2_complex = kappa_c*((Pi_complex*np.conjugate(Pi_complex)) + (phi_complex*np.conjugate(phi_complex)*mu_val**2.0))\n",
        "H2_constraint = ((H_end**2.0))/((t_array/t_end)**2.0)"
      ],
      "execution_count": 24,
      "outputs": []
    },
    {
      "cell_type": "markdown",
      "metadata": {
        "id": "d56AB8rHLvaY"
      },
      "source": [
        "# Pressure"
      ]
    },
    {
      "cell_type": "code",
      "metadata": {
        "colab": {
          "base_uri": "https://localhost:8080/"
        },
        "id": "RbAx-pnGLvaY",
        "outputId": "dc4ea4d6-fc40-4447-d297-d03656c42841"
      },
      "source": [
        "P_complex = (Pi_complex*np.conjugate(Pi_complex)) - (phi_complex*np.conjugate(phi_complex)*mu_val**2.0)\n",
        "P_complex[0]"
      ],
      "execution_count": 25,
      "outputs": [
        {
          "output_type": "execute_result",
          "data": {
            "text/plain": [
              "(1.1250000000000133e-20+0j)"
            ]
          },
          "metadata": {
            "tags": []
          },
          "execution_count": 25
        }
      ]
    },
    {
      "cell_type": "code",
      "metadata": {
        "scrolled": true,
        "colab": {
          "base_uri": "https://localhost:8080/",
          "height": 0
        },
        "id": "SmAhIC0ELvaY",
        "outputId": "5f0c5916-d83e-4b9a-b769-4c3b5dbef064"
      },
      "source": [
        "figure, axs = plt.subplots(2, figsize = (16,10), sharex=True, sharey=False, gridspec_kw={'hspace': 0})\n",
        "\n",
        "axs[0].plot(t_array/t_end, H2_constraint/mu_val**2, '-',  color='turquoise', label= r'$ H \\sim \\dfrac{2}{3t}$')\n",
        "axs[0].plot(t_array/t_end, H2_complex.real/mu_val**2 , '-.', color='black', label= r'Complex')\n",
        "\n",
        "axs[0].legend(loc='upper right', frameon=False,  fontsize = 15)\n",
        "axs[0].set_xscale('log')\n",
        "axs[0].set_yscale('log')\n",
        "\n",
        "axs[1].plot(t_array/t_end, P_complex.real/mu_val**2.0, '-', color='black', label= r'Complex')\n",
        "\n",
        "axs[1].legend(loc='upper right', frameon=False, fontsize = 15)\n",
        "#axs[1].set_xlim(0.9,5)\n",
        "axs[1].set_xscale('log')\n",
        "#axs[1].set_yscale('symlog')\n",
        "\n",
        "axs[1].set_xlabel(r'$t/t_{end}$',fontsize=25)\n",
        "axs[0].set_ylabel(r'$(H/\\mu)^2$',fontsize=25)\n",
        "axs[1].set_ylabel(r'$P/\\mu^2$',fontsize=25)\n",
        "\n",
        "axs[0].tick_params(axis = 'both', which = 'major', labelsize = 20)\n",
        "axs[1].tick_params(axis = 'both', which = 'major', labelsize = 20)\n",
        "\n",
        "\n",
        "plt.subplots_adjust(hspace=0.25)\n",
        "\n",
        "#plt.savefig('H_and_P.pdf')\n",
        "plt.show()"
      ],
      "execution_count": 26,
      "outputs": [
        {
          "output_type": "display_data",
          "data": {
            "image/png": "[encoded data removed]",
            "text/plain": [
              "<Figure size 1152x720 with 2 Axes>"
            ]
          },
          "metadata": {
            "tags": [],
            "needs_background": "light"
          }
        }
      ]
    },
    {
      "cell_type": "code",
      "metadata": {
        "id": "iDVEEanJLvaY"
      },
      "source": [
        ""
      ],
      "execution_count": 26,
      "outputs": []
    },
    {
      "cell_type": "code",
      "metadata": {
        "colab": {
          "base_uri": "https://localhost:8080/",
          "height": 0
        },
        "id": "MeWZtLNKLvaZ",
        "outputId": "633f32c2-179a-404c-f8bf-0e2d0ff8d8a5"
      },
      "source": [
        "figure, ax = plt.subplots(1, 1,figsize = (12,8),  sharex=True)\n",
        "\n",
        "plt.plot(phi_complex[0].real, np.conjugate(phi_complex[0].real)*phi_complex[0].real,  'o', color='red')\n",
        "plt.plot(phi_complex.real, np.conjugate(phi_complex.real)*phi_complex.real,  '.', color='c', label = 'Complex')\n",
        "\n",
        "plt.xlabel(r'$\\phi \\, [M_{Pl}]$',fontsize=25)\n",
        "plt.ylabel(r'$V(\\phi)/\\mu^2$',fontsize=25)\n",
        "plt.xticks(fontsize=20)\n",
        "plt.yticks(fontsize=20)\n",
        "plt.legend(fontsize=15)\n",
        "plt.show()"
      ],
      "execution_count": 27,
      "outputs": [
        {
          "output_type": "display_data",
          "data": {
            "image/png": "[encoded data removed]",
            "text/plain": [
              "<Figure size 864x576 with 1 Axes>"
            ]
          },
          "metadata": {
            "tags": [],
            "needs_background": "light"
          }
        }
      ]
    },
    {
      "cell_type": "markdown",
      "metadata": {
        "id": "NkntT44cLvaZ"
      },
      "source": [
        "## e-folds\n",
        "\n",
        " \n",
        "### $N = log(a) = \\int^{t_f}_{t_i} H dt$"
      ]
    },
    {
      "cell_type": "code",
      "metadata": {
        "colab": {
          "base_uri": "https://localhost:8080/"
        },
        "id": "Z-41uLoNLvaZ",
        "outputId": "e31a6619-85f3-4dc7-e07f-c28acf3a4bce"
      },
      "source": [
        "H2_complex.real, t_array "
      ],
      "execution_count": 28,
      "outputs": [
        {
          "output_type": "execute_result",
          "data": {
            "text/plain": [
              "(array([3.37083333e-19, 3.27084677e-19, 3.17525815e-19, ...,\n",
              "        4.11640983e-23, 4.11503749e-23, 4.11366585e-23]),\n",
              " array([1.15470054e+09, 1.17202535e+09, 1.18935017e+09, ...,\n",
              "        1.03908180e+11, 1.03925505e+11, 1.03942830e+11]))"
            ]
          },
          "metadata": {
            "tags": []
          },
          "execution_count": 28
        }
      ]
    },
    {
      "cell_type": "code",
      "metadata": {
        "id": "dopzXh6eLvaa"
      },
      "source": [
        "from scipy import integrate\n",
        "loga_complex = integrate.cumtrapz(np.sqrt(H2_complex.real), t_array)\n",
        "loga_analytic = 2.*np.log(t_array/t_end)/3."
      ],
      "execution_count": 29,
      "outputs": []
    },
    {
      "cell_type": "markdown",
      "metadata": {
        "id": "Z2dWcFZLLvaa"
      },
      "source": [
        "## Analytic solution\n",
        "### $a(t) = a_{end} \\left( \\dfrac{t}{t_{end}}\\right)^{\\dfrac{2}{3}} $"
      ]
    },
    {
      "cell_type": "code",
      "metadata": {
        "colab": {
          "base_uri": "https://localhost:8080/"
        },
        "id": "2CJ7RAnQLvaa",
        "outputId": "4911df45-c82e-45f9-cee2-06b1583986ab"
      },
      "source": [
        "a_complex =a_end*np.exp(loga_complex.real - loga_complex[0].real)\n",
        "a_analytic = a_end*np.exp(loga_analytic)\n",
        "a_analytic[0], a_complex[0], a_end"
      ],
      "execution_count": 30,
      "outputs": [
        {
          "output_type": "execute_result",
          "data": {
            "text/plain": [
              "(6.534339821673736e-24, 6.534339821673736e-24, 6.534339821673736e-24)"
            ]
          },
          "metadata": {
            "tags": []
          },
          "execution_count": 30
        }
      ]
    },
    {
      "cell_type": "code",
      "metadata": {
        "colab": {
          "base_uri": "https://localhost:8080/",
          "height": 0
        },
        "id": "M13KeNPFLvaa",
        "outputId": "d9cb16e3-ae88-43ce-c51a-e8391b8aa838"
      },
      "source": [
        "figure, ax = plt.subplots(1, 1,figsize = (12,8),  sharex=True)\n",
        "\n",
        "plt.plot(t_array/t_end, a_analytic, 'o',  color='black', label= r'Analytic $\\sim t^{2/3}$')\n",
        "plt.plot(t_array[0:-1]/t_end, a_complex,  '.-', color='magenta', label= r'SF')\n",
        "\n",
        "plt.xlabel(r'$t/t_{end}$',fontsize=25)\n",
        "plt.ylabel(r'$a$',fontsize=25)\n",
        "\n",
        "plt.xticks(fontsize=20)\n",
        "plt.yticks(fontsize=20)\n",
        "plt.legend(fontsize=20)\n",
        "\n",
        "plt.xscale('log')\n",
        "plt.yscale('log')\n",
        "\n",
        "plt.show()"
      ],
      "execution_count": 31,
      "outputs": [
        {
          "output_type": "display_data",
          "data": {
            "image/png": "[encoded data removed]",
            "text/plain": [
              "<Figure size 864x576 with 1 Axes>"
            ]
          },
          "metadata": {
            "tags": [],
            "needs_background": "light"
          }
        }
      ]
    },
    {
      "cell_type": "code",
      "metadata": {
        "colab": {
          "base_uri": "https://localhost:8080/"
        },
        "id": "qC9RQgGeLvaa",
        "outputId": "f017f741-a980-4f47-b992-3fa1340fc307"
      },
      "source": [
        "np.log(a_analytic[-1]/a_analytic[0])"
      ],
      "execution_count": 32,
      "outputs": [
        {
          "output_type": "execute_result",
          "data": {
            "text/plain": [
              "3.0"
            ]
          },
          "metadata": {
            "tags": []
          },
          "execution_count": 32
        }
      ]
    },
    {
      "cell_type": "markdown",
      "metadata": {
        "id": "S33kPa6tLvab"
      },
      "source": [
        "## Conformal time\n",
        "\n",
        "### $ \\eta = \\int^{t_f}_{t_i}  \\dfrac{dt}{a}$"
      ]
    },
    {
      "cell_type": "code",
      "metadata": {
        "id": "SM7XYVzHLvab"
      },
      "source": [
        "eta_array = integrate.cumtrapz(1.0/a_analytic, t_array)"
      ],
      "execution_count": 33,
      "outputs": []
    },
    {
      "cell_type": "code",
      "metadata": {
        "id": "iW3HxTG1Lvab"
      },
      "source": [
        "eta_analytic = (3.0*t_end*( ((t_array/t_end)**(1./3.)) - 1.0 )/a_end) + eta_array[0]"
      ],
      "execution_count": 34,
      "outputs": []
    },
    {
      "cell_type": "code",
      "metadata": {
        "colab": {
          "base_uri": "https://localhost:8080/"
        },
        "id": "VQEe1Cx0Lvab",
        "outputId": "bed4e7bb-f6be-4f20-b9a8-4c5f6fc7a347"
      },
      "source": [
        "eta_end = eta_array[0]\n",
        "eta_f = eta_array[-1]\n",
        "eta_end, eta_f"
      ],
      "execution_count": 35,
      "outputs": [
        {
          "output_type": "execute_result",
          "data": {
            "text/plain": [
              "(2.638252567781678e+30, 1.8457777669703102e+33)"
            ]
          },
          "metadata": {
            "tags": []
          },
          "execution_count": 35
        }
      ]
    },
    {
      "cell_type": "code",
      "metadata": {
        "colab": {
          "base_uri": "https://localhost:8080/",
          "height": 0
        },
        "id": "tsXQbjj7Lvac",
        "outputId": "d006386a-533b-45f4-9e86-06a2b5d09f07"
      },
      "source": [
        "figure, ax = plt.subplots(1, 1,figsize = (12,8),  sharex=True)\n",
        "\n",
        "plt.plot(t_array[0:-1], eta_array, '.',  color='black', label= r'Numerical')\n",
        "plt.plot(t_array, eta_analytic,  '-.', color='magenta', label= r'SF')\n",
        "\n",
        "plt.xlabel(r'$t$',fontsize=25)\n",
        "plt.ylabel(r'$\\eta$',fontsize=25)\n",
        "\n",
        "plt.xticks(fontsize=20)\n",
        "plt.yticks(fontsize=20)\n",
        "plt.legend(fontsize=20)\n",
        "\n",
        "plt.xscale('log')\n",
        "plt.yscale('log')\n",
        "\n",
        "plt.show()"
      ],
      "execution_count": 36,
      "outputs": [
        {
          "output_type": "display_data",
          "data": {
            "image/png": "[encoded data removed]",
            "text/plain": [
              "<Figure size 864x576 with 1 Axes>"
            ]
          },
          "metadata": {
            "tags": [],
            "needs_background": "light"
          }
        }
      ]
    },
    {
      "cell_type": "markdown",
      "metadata": {
        "id": "si6yTvE2Lvac"
      },
      "source": [
        "# Hubble conformal\n",
        "## $\\mathcal{H} = aH $"
      ]
    },
    {
      "cell_type": "code",
      "metadata": {
        "id": "1HrmPEBcLvac"
      },
      "source": [
        "Ha_conf = np.sqrt(H2_constraint[0:-1])*a_analytic[0:-1]\n",
        "Hc_conf = np.sqrt(H2_complex)*a_analytic"
      ],
      "execution_count": 37,
      "outputs": []
    },
    {
      "cell_type": "code",
      "metadata": {
        "id": "_zE00v2ALvac"
      },
      "source": [
        "Pic_conf = Pi_complex*a_analytic"
      ],
      "execution_count": 38,
      "outputs": []
    },
    {
      "cell_type": "code",
      "metadata": {
        "colab": {
          "base_uri": "https://localhost:8080/"
        },
        "id": "14y-RHzWLvac",
        "outputId": "315a4a70-7e57-4efd-f0ee-8baba2cab90e"
      },
      "source": [
        "zc_MS_numerical = - ((mu_val*a_analytic)**2.0)*(1.0 + (3.0*Hc_conf*phi_complex/Pic_conf)) + ((Hc_conf**2.0)/2.0) #This is z''/z with H^2 << \\mu^2\n",
        "zc_MS_analytic = - ((mu_val*a_analytic)**2.0)*(1.0 - (3.0*1j*Hc_conf/(mu_val*a_analytic))) + ((Hc_conf**2.0)/2.0)\n",
        "\n",
        "kc_numerical = np.sqrt(module(zc_MS_numerical)).real\n",
        "kc_analytic = np.sqrt(module(zc_MS_analytic)).real\n",
        "kc_analytic, kc_numerical"
      ],
      "execution_count": 39,
      "outputs": [
        {
          "output_type": "execute_result",
          "data": {
            "text/plain": [
              "(array([3.84671522e-32, 3.88293697e-32, 3.91902015e-32, ...,\n",
              "        7.57581003e-31, 7.57665209e-31, 7.57749410e-31]),\n",
              " array([3.76395000e-32, 3.80173954e-32, 3.83934009e-32, ...,\n",
              "        7.57578898e-31, 7.57663104e-31, 7.57747306e-31]))"
            ]
          },
          "metadata": {
            "tags": []
          },
          "execution_count": 39
        }
      ]
    },
    {
      "cell_type": "markdown",
      "metadata": {
        "id": "m-Xpwq0NLvad"
      },
      "source": [
        "# M-S dynamical system.\n",
        "## $u'_k = v_k $\n",
        "## $v'_k = \\left( -k^2 + \\dfrac{z''}{z} \\right) u_k$\n",
        "# with $\\left(\\dfrac{z''}{z}\\right)_{{(complex,real)}}$"
      ]
    },
    {
      "cell_type": "code",
      "metadata": {
        "id": "UZP2d8fuLvad"
      },
      "source": [
        "def Equation_MS1_complex(eta2, uk2, vk2, k2_eff):\n",
        "    return vk2\n",
        "\n",
        "def Equation_MS2_complex(eta2, uk2, vk2, k2_eff):\n",
        "    return -uk2*k2_eff"
      ],
      "execution_count": 40,
      "outputs": []
    },
    {
      "cell_type": "code",
      "metadata": {
        "id": "p3xR2YzlLvad"
      },
      "source": [
        "def RK4_MS_complex(F1, F2, u_initial, v_initial, k2_scale): #RUNGE-KUTTA 4th order\n",
        "    \n",
        "    M = len(t_array) + 1\n",
        "    step_size = (eta_f - eta_end)/M  \n",
        "    \n",
        "    a_arr = []\n",
        "    z_arr = [] \n",
        "    z_prime_arr = []\n",
        "    HC2_arr = []\n",
        "    u_arr = []\n",
        "    v_arr = []\n",
        "    \n",
        "\n",
        "    eta = eta_end\n",
        "    a = a_analytic[0]\n",
        "    u = u_initial\n",
        "    v = v_initial\n",
        "    \n",
        "    j = 0\n",
        "    \n",
        "    while eta <= eta_f:\n",
        "        \n",
        "        t_conf = t_end*((a_end*(eta-eta_end)/(3.0*t_end)) + 1.0 )**3.0\n",
        "        \n",
        "        phi_C = (C1*(a_end**(-3./2.))*np.exp(1j*((mu_val*t_conf))))*t_end/t_conf\n",
        "        Pi_C = (1j*mu_val*phi_C) - (phi_C/t_conf)\n",
        "        \n",
        "        Pic_C = a*Pi_C\n",
        "         \n",
        "        HC2_conformal = kappa_c*((Pic_C*np.conjugate(Pic_C)) + ((phi_C*np.conjugate(phi_C)*(mu_val*a)**2)))\n",
        "\n",
        "        \n",
        "        k_J2 = ((-(a*mu_val)**2.0)*(1.0 + (3.0*np.sqrt(HC2_conformal)*phi_C/Pic_C))) + ((HC2_conformal)/2.0)\n",
        "        \n",
        "        k_eff = k2_scale - np.conjugate(k_J2)\n",
        "        #print eta_array[j], u_array[j], k2eff_array[j]\n",
        "        \n",
        "        \n",
        "        a_arr.append(a)\n",
        "        HC2_arr.append(HC2_conformal)\n",
        "        z_arr.append(a*Pic_C/np.sqrt(HC2_conformal))\n",
        "        z_prime_arr.append(-(a*Pic_C/2.0) - ((a**3.0)*(mu_val**2.0)*phi_C/np.sqrt(HC2_conformal)))\n",
        "        u_arr.append(u)\n",
        "        v_arr.append(v)\n",
        "        \n",
        "        \n",
        "     \n",
        "        k11 = step_size*F1(eta, u, v, k_eff)\n",
        "        k12 = step_size*F2(eta, u, v, k_eff)\n",
        "    \n",
        "        k21 = step_size*F1(eta + (step_size/2.0), u + (k11/2.0), v + (k12/2.0), k_eff)   \n",
        "        k22 = step_size*F2(eta + (step_size/2.0), u + (k11/2.0), v + (k12/2.0), k_eff)\n",
        "\n",
        "        k31 = step_size*F1(eta + (step_size/2.0), u + (k21/2.0), v + (k22/2.0), k_eff)\n",
        "        k32 = step_size*F2(eta + (step_size/2.0), u + (k21/2.0), v + (k22/2.0), k_eff)\n",
        "\n",
        "        k41 = step_size*F1(eta + step_size, u + k31, v + k32, k_eff)\n",
        "        k42 = step_size*F2(eta + step_size, u + k31, v + k32, k_eff)\n",
        "        \n",
        "        \n",
        "        eta = eta + step_size\n",
        "        a = a_end*(t_conf/t_end)**(2.0/3.0)\n",
        "        u = u + (k11 + (2.0*k21) + (2.0*k31) + k41)/6.0\n",
        "        v = v + (k12 + (2.0*k22) + (2.0*k32) + k42)/6.0\n",
        "\n",
        "        \n",
        "        j = j + 1\n",
        "\n",
        "    return np.array(a_arr), np.array(u_arr), np.array(v_arr), np.array(z_arr), np.array(z_prime_arr), np.array(HC2_arr)"
      ],
      "execution_count": 41,
      "outputs": []
    },
    {
      "cell_type": "code",
      "metadata": {
        "colab": {
          "base_uri": "https://localhost:8080/"
        },
        "id": "tz307DVpLvae",
        "outputId": "3d3a7672-3469-4c66-f772-136b8a69211f"
      },
      "source": [
        "kc_analytic[0]"
      ],
      "execution_count": 42,
      "outputs": [
        {
          "output_type": "execute_result",
          "data": {
            "text/plain": [
              "3.846715223967531e-32"
            ]
          },
          "metadata": {
            "tags": []
          },
          "execution_count": 42
        }
      ]
    },
    {
      "cell_type": "code",
      "metadata": {
        "colab": {
          "base_uri": "https://localhost:8080/"
        },
        "id": "mpBKvuq6Lvae",
        "outputId": "4f4ca624-38cd-48a3-af7b-aa46c27bc7bc"
      },
      "source": [
        "k_min = a_analytic[-1]*np.sqrt(H2_complex[-1].real)\n",
        "k_max = kc_analytic[-1]\n",
        "k_min, k_max"
      ],
      "execution_count": 43,
      "outputs": [
        {
          "output_type": "execute_result",
          "data": {
            "text/plain": [
              "(8.417820635647857e-34, 7.577494096754908e-31)"
            ]
          },
          "metadata": {
            "tags": []
          },
          "execution_count": 43
        }
      ]
    },
    {
      "cell_type": "code",
      "metadata": {
        "id": "O3Em47pMLvaf"
      },
      "source": [
        "#k_array = np.linspace(k_min,k_max,100)\n",
        "#k_array"
      ],
      "execution_count": 44,
      "outputs": []
    },
    {
      "cell_type": "code",
      "metadata": {
        "id": "PbF1-TI1Lvaf"
      },
      "source": [
        "#k2_array = k_array**2.0"
      ],
      "execution_count": 45,
      "outputs": []
    },
    {
      "cell_type": "code",
      "metadata": {
        "colab": {
          "base_uri": "https://localhost:8080/"
        },
        "id": "wipzC7B7Lvaf",
        "outputId": "d19699a2-8153-4fbc-e908-ba3e5a352883"
      },
      "source": [
        "LL = 1000\n",
        "\n",
        "k2_array = np.zeros(LL)\n",
        "k2_array[0] = (k_min.real**2.0)\n",
        "\n",
        "\n",
        "for ii in range(LL - 1):\n",
        "    k2_array[ii+1] = k2_array[ii]*1.15\n",
        "    if k2_array[ii] > k_max**2.0:\n",
        "        k2_array = k2_array[k2_array <= k_max**2.0]        \n",
        "        break\n",
        "        \n",
        "        \n",
        "k2_array = k2_array[k2_array>0]    \n",
        "k_array = np.sqrt(k2_array)\n",
        "\n",
        "k2_array, len(k_array)"
      ],
      "execution_count": 46,
      "outputs": [
        {
          "output_type": "execute_result",
          "data": {
            "text/plain": [
              "(array([7.08597043e-67, 8.14886599e-67, 9.37119589e-67, 1.07768753e-66,\n",
              "        1.23934066e-66, 1.42524175e-66, 1.63902802e-66, 1.88488222e-66,\n",
              "        2.16761455e-66, 2.49275674e-66, 2.86667025e-66, 3.29667078e-66,\n",
              "        3.79117140e-66, 4.35984711e-66, 5.01382418e-66, 5.76589781e-66,\n",
              "        6.63078248e-66, 7.62539985e-66, 8.76920982e-66, 1.00845913e-65,\n",
              "        1.15972800e-65, 1.33368720e-65, 1.53374028e-65, 1.76380132e-65,\n",
              "        2.02837152e-65, 2.33262725e-65, 2.68252133e-65, 3.08489953e-65,\n",
              "        3.54763446e-65, 4.07977963e-65, 4.69174658e-65, 5.39550857e-65,\n",
              "        6.20483485e-65, 7.13556008e-65, 8.20589409e-65, 9.43677820e-65,\n",
              "        1.08522949e-64, 1.24801392e-64, 1.43521601e-64, 1.65049841e-64,\n",
              "        1.89807317e-64, 2.18278414e-64, 2.51020176e-64, 2.88673203e-64,\n",
              "        3.31974183e-64, 3.81770311e-64, 4.39035857e-64, 5.04891236e-64,\n",
              "        5.80624921e-64, 6.67718659e-64, 7.67876458e-64, 8.83057927e-64,\n",
              "        1.01551662e-63, 1.16784411e-63, 1.34302072e-63, 1.54447383e-63,\n",
              "        1.77614491e-63, 2.04256664e-63, 2.34895164e-63, 2.70129439e-63,\n",
              "        3.10648855e-63, 3.57246183e-63, 4.10833110e-63, 4.72458077e-63,\n",
              "        5.43326788e-63, 6.24825806e-63, 7.18549677e-63, 8.26332129e-63,\n",
              "        9.50281948e-63, 1.09282424e-62, 1.25674788e-62, 1.44526006e-62,\n",
              "        1.66204907e-62, 1.91135643e-62, 2.19805989e-62, 2.52776887e-62,\n",
              "        2.90693421e-62, 3.34297434e-62, 3.84442049e-62, 4.42108356e-62,\n",
              "        5.08424609e-62, 5.84688301e-62, 6.72391546e-62, 7.73250278e-62,\n",
              "        8.89237820e-62, 1.02262349e-61, 1.17601702e-61, 1.35241957e-61,\n",
              "        1.55528250e-61, 1.78857488e-61, 2.05686111e-61, 2.36539028e-61,\n",
              "        2.72019882e-61, 3.12822864e-61, 3.59746294e-61, 4.13708238e-61,\n",
              "        4.75764474e-61, 5.47129145e-61]), 98)"
            ]
          },
          "metadata": {
            "tags": []
          },
          "execution_count": 46
        }
      ]
    },
    {
      "cell_type": "markdown",
      "metadata": {
        "id": "9lE30vr3Lvaf"
      },
      "source": [
        "# $k_{end} = a_{end}H_{end}$ "
      ]
    },
    {
      "cell_type": "code",
      "metadata": {
        "colab": {
          "base_uri": "https://localhost:8080/"
        },
        "id": "JOMnTAYlLvag",
        "outputId": "061dc9bf-c04a-47d1-fc52-b63c16083c73"
      },
      "source": [
        "k_end = a_end*H_end #M_pl^-1\n",
        "k_final = a_analytic[-1]*np.sqrt(H2_complex[-1].real)\n",
        "\n",
        "k_end, k_final"
      ],
      "execution_count": 47,
      "outputs": [
        {
          "output_type": "execute_result",
          "data": {
            "text/plain": [
              "(3.7726028550198235e-33, 8.417820635647857e-34)"
            ]
          },
          "metadata": {
            "tags": []
          },
          "execution_count": 47
        }
      ]
    },
    {
      "cell_type": "code",
      "metadata": {
        "colab": {
          "base_uri": "https://localhost:8080/"
        },
        "id": "EbcB_j5bLvag",
        "outputId": "23b34cfc-ce41-49ab-9809-3f27eb90f64e"
      },
      "source": [
        "R_H_end = 1.0/np.sqrt(H2_complex[0].real)\n",
        "R_Hf = 1.0/np.sqrt(H2_complex[-1].real)\n",
        "R_H_end, R_Hf"
      ],
      "execution_count": 48,
      "outputs": [
        {
          "output_type": "execute_result",
          "data": {
            "text/plain": [
              "(1722389463.3720987, 155914136731.6415)"
            ]
          },
          "metadata": {
            "tags": []
          },
          "execution_count": 48
        }
      ]
    },
    {
      "cell_type": "code",
      "metadata": {
        "colab": {
          "base_uri": "https://localhost:8080/",
          "height": 520
        },
        "id": "S40UQ0ZILvag",
        "outputId": "f6c37dff-b49a-48f9-d004-d29afc74c741"
      },
      "source": [
        "figure, ax = plt.subplots(1,figsize = (12,8),  sharex=True, sharey=True)\n",
        "\n",
        "plt.plot(np.log(a_analytic/a_analytic[0]),  1.0/(np.sqrt(H2_complex.real)),  '--', lw =2.0, color='blue')\n",
        "\n",
        "plt.fill_between(np.log(a_analytic/a_analytic[0]), a_analytic/kc_analytic.real, 1.0/(np.sqrt(H2_complex.real)), color='lightblue')\n",
        "\n",
        "plt.plot(np.log(a_analytic/a_analytic[0]),  a_analytic/kc_analytic.real,  '-', lw =2.0, color='blue')\n",
        "\n",
        "#plt.plot(np.log(a_analytic/a_analytic[0]),  1.0/np.sqrt((3.0*np.sqrt(H2_complex.real)*mu_val)),  '-', lw =2.0, color='green')\n",
        "\n",
        "\n",
        "\n",
        "j = 0\n",
        "for i in range(len(k_array)):\n",
        "    if j >= len(k_array):\n",
        "        break\n",
        "    plt.plot(np.log(a_analytic/a_analytic[0]),  a_analytic/(k_array[j].real),  '-', lw =1, color='yellow')\n",
        "\n",
        "    j = i + 1  \n",
        "    \n",
        "    \n",
        "plt.plot(np.log(a_analytic/a_analytic[0]),  a_analytic/k_max.real,  '-', lw =2.0, color='purple')\n",
        "plt.plot(np.log(a_analytic/a_analytic[0]),  a_analytic/k_min.real,  '-', lw =2.0, color='magenta')\n",
        "#plt.plot(np.log(a_analytic/a_analytic[0]),  2.0*np.pi*a_analytic/(1.1*k_array[4].real),  '-', lw =2.0, color='magenta')\n",
        "\n",
        "#ax.hlines(1.0/np.sqrt(k2_array[11]), xmin=0, xmax=5, linewidth=2, color='green')\n",
        "#ax.hlines(1.0/k_array, xmin=0, xmax=e_folds, linewidth=2, color='purple')\n",
        "#ax.hlines(1.0/k_end, xmin=0, xmax=e_folds, linewidth=2, color='red')\n",
        "\n",
        "plt.tick_params(axis = 'both', which = 'major', labelsize = 16)\n",
        "\n",
        "#plt.text(e_folds - 2.5, a_analytic[-1]/(1.8*k_min.real) , r'$k_{\\rm min}$', {'color': 'magenta', 'fontsize': 25})\n",
        "\n",
        "#plt.text(e_folds - 7.5 , (1.0/(20000*np.sqrt(H2_complex[0].real))) , r'$k_{\\rm H}$', {'color': 'blue', 'fontsize': 25})\n",
        "\n",
        "\n",
        "#plt.text(e_folds - 2.5, a_analytic[-1]/(100.5*k_max.real) , r'$k_{\\rm max}$', {'color': 'purple', 'fontsize': 25})\n",
        "\n",
        "#plt.text(e_folds - 7.5, a_analytic[-1]/(10.5*kc_analytic[0].real) , r'$k_{\\rm J}$', {'color': 'blue', 'fontsize': 25})\n",
        "\n",
        "#plt.text(e_folds - 2.5, a_analytic[-1]/(0.007*kc_analytic[-1].real) , r'Mathieu instability', {'color': 'green', 'fontsize': 20})\n",
        "\n",
        "\n",
        "\n",
        "plt.xlabel(r'e-fold number $N$',fontsize=25)\n",
        "\n",
        "plt.xlim(1.6,e_folds)\n",
        "plt.ylabel(r'physical scales $ \\, \\rm [M_{Pl}^{-1}]$',fontsize=20)\n",
        "\n",
        "plt.yscale('log')\n",
        "plt.xticks(fontsize=20)\n",
        "plt.yticks(fontsize=20)\n",
        "#plt.savefig('complex_scales.png')\n",
        "plt.show()"
      ],
      "execution_count": 49,
      "outputs": [
        {
          "output_type": "display_data",
          "data": {
            "image/png": "[encoded data removed]",
            "text/plain": [
              "<Figure size 864x576 with 1 Axes>"
            ]
          },
          "metadata": {
            "tags": [],
            "needs_background": "light"
          }
        }
      ]
    },
    {
      "cell_type": "code",
      "metadata": {
        "colab": {
          "base_uri": "https://localhost:8080/"
        },
        "id": "Tn0XBhucLvag",
        "outputId": "7d4ae95d-fc5f-4eb9-a8d7-7e4772afc757"
      },
      "source": [
        "np.exp(-1j*k_array[0]*eta_end)/np.sqrt(2.0*k_array[0])"
      ],
      "execution_count": 50,
      "outputs": [
        {
          "output_type": "execute_result",
          "data": {
            "text/plain": [
              "(2.4371603125400196e+16-54125366301536.1j)"
            ]
          },
          "metadata": {
            "tags": []
          },
          "execution_count": 50
        }
      ]
    },
    {
      "cell_type": "code",
      "metadata": {
        "id": "LkyscJQGLvag"
      },
      "source": [
        "nu_phi =  2.0 - ns/2.0\n",
        "k_J = k_end*np.sqrt(3.0*np.sqrt(15.0)/2.0)"
      ],
      "execution_count": 51,
      "outputs": []
    },
    {
      "cell_type": "code",
      "metadata": {
        "id": "trXZQHtHLvag"
      },
      "source": [
        "def delta_k(k2_arr):\n",
        "    \n",
        "    k_arr = np.sqrt(k2_arr)\n",
        "    ac_modes = []\n",
        "    zetac_modes = []\n",
        "    deltac_k = []\n",
        "    \n",
        "    term_1 = []\n",
        "    term_2 = []\n",
        "    \n",
        "\n",
        "    nu_phi =  2.0 - ns/2.0   #observacional\n",
        "    #nu_phi = (3.0/2.0) + ((1.0 - ns)/2.0)\n",
        "    l=0\n",
        "    \n",
        "    \n",
        "    while l < (len(k_arr)):\n",
        "\n",
        "        if k_arr[l] >= k_end:\n",
        "            \n",
        "            uc0 = np.exp(-1j*k_arr[l]*eta_end)/np.sqrt(2.0*k_arr[l])\n",
        "            vc0 = -1j*k_arr[l]*uc0 \n",
        "            print (\"Small scales\", l)\n",
        "        \n",
        "        else:\n",
        "            \n",
        "            uc0 = a_end*(np.exp(-1j*k_arr[l]*eta_end))*H_end*((k_arr[l]/(a_end*H_end))**((3.0/2.0) - nu_phi))/np.sqrt(2.0*k_arr[l]**3.0)\n",
        "            vc0 = a_end*H_end*uc0*( (5.0/2.0) + nu_phi - (2.0*1j*k_arr[l]/(a_end*H_end)) )/2.0\n",
        "            print (\"Large scales\", l)\n",
        "            \n",
        "        ac_mode ,uc_mode, vc_mode, zc_mode, zprime_mode, HC2_conf = RK4_MS_complex(Equation_MS1_complex, Equation_MS2_complex, uc0, vc0, k2_arr[l])\n",
        "        \n",
        "        ac_modes.append(ac_mode[0:-1])\n",
        "        zetac_modes.append(uc_mode[0:-1]/zc_mode[0:-1])\n",
        "        \n",
        "        \n",
        "        deltac_k.append(-2.0*zetac_modes[l]*((k2_array[l]/HC2_conf[0:-1]) + 3.0)/5.0) #Super-horizon \\Phi = const.\n",
        "        \n",
        "        \n",
        "        #term_1 = (np.conjugate(vc_mode[0:-4])*zc_mode[0:-4]) - (np.conjugate(uc_mode[0:-4])*zprime_mode[0:-4])\n",
        "#             term_2 = (vc_mode[0:-4]*np.conjugate(zc_mode[0:-4])) - (uc_mode[0:-4]*np.conjugate(zprime_mode[0:-4]))\n",
        "#             deltac_k.append((term_1 + term_2)/(3.0*np.sqrt(HC2_conf[0:-4].real)*ac_mode[0:-4]**2.0))\n",
        "        \n",
        "#         else:\n",
        "            \n",
        "         \n",
        "        l = l + 1     \n",
        "    \n",
        "    return ac_modes, zetac_modes, deltac_k"
      ],
      "execution_count": 52,
      "outputs": []
    },
    {
      "cell_type": "code",
      "metadata": {
        "scrolled": true,
        "colab": {
          "base_uri": "https://localhost:8080/"
        },
        "id": "nhGADDb7Lvah",
        "outputId": "0221ac8e-3e35-4d5b-c4db-c464b9e37882"
      },
      "source": [
        "%%time\n",
        "ac_scales, zetac_scales, deltac_scales = delta_k(k2_array)"
      ],
      "execution_count": 53,
      "outputs": [
        {
          "output_type": "stream",
          "text": [
            "Large scales 0\n",
            "Large scales 1\n",
            "Large scales 2\n",
            "Large scales 3\n",
            "Large scales 4\n",
            "Large scales 5\n",
            "Large scales 6\n",
            "Large scales 7\n",
            "Large scales 8\n",
            "Large scales 9\n",
            "Large scales 10\n",
            "Large scales 11\n",
            "Large scales 12\n",
            "Large scales 13\n",
            "Large scales 14\n",
            "Large scales 15\n",
            "Large scales 16\n",
            "Large scales 17\n",
            "Large scales 18\n",
            "Large scales 19\n",
            "Large scales 20\n",
            "Large scales 21\n",
            "Small scales 22\n",
            "Small scales 23\n",
            "Small scales 24\n",
            "Small scales 25\n",
            "Small scales 26\n",
            "Small scales 27\n",
            "Small scales 28\n",
            "Small scales 29\n",
            "Small scales 30\n",
            "Small scales 31\n",
            "Small scales 32\n",
            "Small scales 33\n",
            "Small scales 34\n",
            "Small scales 35\n",
            "Small scales 36\n",
            "Small scales 37\n",
            "Small scales 38\n",
            "Small scales 39\n",
            "Small scales 40\n",
            "Small scales 41\n",
            "Small scales 42\n",
            "Small scales 43\n",
            "Small scales 44\n",
            "Small scales 45\n",
            "Small scales 46\n",
            "Small scales 47\n",
            "Small scales 48\n",
            "Small scales 49\n",
            "Small scales 50\n",
            "Small scales 51\n",
            "Small scales 52\n",
            "Small scales 53\n",
            "Small scales 54\n",
            "Small scales 55\n",
            "Small scales 56\n",
            "Small scales 57\n",
            "Small scales 58\n",
            "Small scales 59\n",
            "Small scales 60\n",
            "Small scales 61\n",
            "Small scales 62\n",
            "Small scales 63\n",
            "Small scales 64\n",
            "Small scales 65\n",
            "Small scales 66\n",
            "Small scales 67\n",
            "Small scales 68\n",
            "Small scales 69\n",
            "Small scales 70\n",
            "Small scales 71\n",
            "Small scales 72\n",
            "Small scales 73\n",
            "Small scales 74\n",
            "Small scales 75\n",
            "Small scales 76\n",
            "Small scales 77\n",
            "Small scales 78\n",
            "Small scales 79\n",
            "Small scales 80\n",
            "Small scales 81\n",
            "Small scales 82\n",
            "Small scales 83\n",
            "Small scales 84\n",
            "Small scales 85\n",
            "Small scales 86\n",
            "Small scales 87\n",
            "Small scales 88\n",
            "Small scales 89\n",
            "Small scales 90\n",
            "Small scales 91\n",
            "Small scales 92\n",
            "Small scales 93\n",
            "Small scales 94\n",
            "Small scales 95\n",
            "Small scales 96\n",
            "Small scales 97\n",
            "CPU times: user 41.1 s, sys: 114 ms, total: 41.2 s\n",
            "Wall time: 41.5 s\n"
          ],
          "name": "stdout"
        }
      ]
    },
    {
      "cell_type": "code",
      "metadata": {
        "id": "bLWKFqFkLvah"
      },
      "source": [
        "efolds_array = np.log(ac_scales[0]/ac_scales[0][0])"
      ],
      "execution_count": 54,
      "outputs": []
    },
    {
      "cell_type": "code",
      "metadata": {
        "colab": {
          "base_uri": "https://localhost:8080/"
        },
        "id": "5P_jCV_FLvah",
        "outputId": "fce6a402-37d4-4e35-8662-cc35181c452f"
      },
      "source": [
        "A =  (a_analytic/k_array[2]) < (1.0/(np.sqrt(H2_complex)))\n",
        "A"
      ],
      "execution_count": 55,
      "outputs": [
        {
          "output_type": "execute_result",
          "data": {
            "text/plain": [
              "array([False, False, False, ...,  True,  True,  True])"
            ]
          },
          "metadata": {
            "tags": []
          },
          "execution_count": 55
        }
      ]
    },
    {
      "cell_type": "code",
      "metadata": {
        "colab": {
          "base_uri": "https://localhost:8080/",
          "height": 614
        },
        "id": "Yo7LImlvLvai",
        "outputId": "585c0303-1471-41db-e479-8f21e77cec98"
      },
      "source": [
        "Dx = 3\n",
        "Dy = 6\n",
        "figure, axs = plt.subplots(Dx, Dy , figsize = (16,10), sharex=False, sharey=False,  gridspec_kw={'hspace': 0, 'wspace':0})\n",
        "i=0\n",
        "\n",
        "        \n",
        "for i in range(Dx):\n",
        "    for j in range(Dy):\n",
        "#        plt.figure()\n",
        "        l = (Dy*i)+j \n",
        "        \n",
        "#        axs[i,j].plot(efolds_array, module(deltac_scales[l]).real/module(deltac_scales[l][0]).real,'-')\n",
        "        axs[i,j].plot(ac_scales[0], module(deltac_scales[l]).real,'-')\n",
        "        \n",
        "#        axs[i,j].axes.get_yaxis().set_visible(False)\n",
        "        axs[i,j].set_xscale('log')\n",
        "        axs[i,j].set_yscale('log')\n",
        "        \n",
        "        axs[i,j].set_xlabel(r'$a$', fontsize=15)\n",
        "        \n",
        "#plt.savefig('deltas_100_k.pdf')\n",
        "plt.show()"
      ],
      "execution_count": 56,
      "outputs": [
        {
          "output_type": "display_data",
          "data": {
            "image/png": "[encoded data removed]",
            "text/plain": [
              "<Figure size 1152x720 with 18 Axes>"
            ]
          },
          "metadata": {
            "tags": [],
            "needs_background": "light"
          }
        }
      ]
    },
    {
      "cell_type": "code",
      "metadata": {
        "colab": {
          "base_uri": "https://localhost:8080/"
        },
        "id": "HSMrn9dvLvai",
        "outputId": "81cff8cd-3126-4d16-8422-d6bccd9c5055"
      },
      "source": [
        "#Pk_real = np.zeros((len(k,len(B_arr)))\n",
        "deltac_scales[:][0]"
      ],
      "execution_count": 57,
      "outputs": [
        {
          "output_type": "execute_result",
          "data": {
            "text/plain": [
              "array([ 2.55552724e+39+1.67826953e+40j,  2.75899008e+39+1.67911279e+40j,\n",
              "        2.95993439e+39+1.67744557e+40j, ...,\n",
              "       -5.22086127e+39+1.09582924e+40j,  2.97912693e+38+1.21360066e+40j,\n",
              "        5.75447701e+39+1.06902422e+40j])"
            ]
          },
          "metadata": {
            "tags": []
          },
          "execution_count": 57
        }
      ]
    },
    {
      "cell_type": "code",
      "metadata": {
        "colab": {
          "base_uri": "https://localhost:8080/"
        },
        "id": "PKskWcbRLvai",
        "outputId": "624dad99-f25c-4937-cec5-99477de6e0db"
      },
      "source": [
        "np.shape(deltac_scales), len(t_array)"
      ],
      "execution_count": 58,
      "outputs": [
        {
          "output_type": "execute_result",
          "data": {
            "text/plain": [
              "((98, 5935), 5934)"
            ]
          },
          "metadata": {
            "tags": []
          },
          "execution_count": 58
        }
      ]
    },
    {
      "cell_type": "code",
      "metadata": {
        "colab": {
          "base_uri": "https://localhost:8080/"
        },
        "id": "SBU36B56Lvai",
        "outputId": "6408dfff-7f6a-4d83-f644-90f311fa3be6"
      },
      "source": [
        "k_array = k_array[4.0*np.pi*(k_end**3.0)/(H_end*k_array**3.0) >= 1.0]\n",
        "len(k_array)"
      ],
      "execution_count": 59,
      "outputs": [
        {
          "output_type": "execute_result",
          "data": {
            "text/plain": [
              "98"
            ]
          },
          "metadata": {
            "tags": []
          },
          "execution_count": 59
        }
      ]
    },
    {
      "cell_type": "code",
      "metadata": {
        "colab": {
          "base_uri": "https://localhost:8080/"
        },
        "id": "-TOIJSn1Lvaj",
        "outputId": "f99035a4-a138-40c4-f7c5-0ebb06969dd0"
      },
      "source": [
        "ac_scales[-1] == ac_scales[0]"
      ],
      "execution_count": 60,
      "outputs": [
        {
          "output_type": "execute_result",
          "data": {
            "text/plain": [
              "array([ True,  True,  True, ...,  True,  True,  True])"
            ]
          },
          "metadata": {
            "tags": []
          },
          "execution_count": 60
        }
      ]
    },
    {
      "cell_type": "code",
      "metadata": {
        "scrolled": true,
        "colab": {
          "base_uri": "https://localhost:8080/"
        },
        "id": "rPS_OhRdLvaj",
        "outputId": "64e00e60-0b89-411b-c987-95f9acb064e5"
      },
      "source": [
        "%%time\n",
        "\n",
        "Pdelta_complex = np.zeros((len(k_array), (np.shape(deltac_scales))[1]))\n",
        "Pzeta_complex = np.zeros((len(k_array), (np.shape(deltac_scales))[1]))\n",
        "\n",
        "\n",
        "for time in range((np.shape(deltac_scales))[1]):\n",
        "    for kk in range(len(k_array)):\n",
        "            Pdelta_complex[kk,time] = ((k_array[kk]**3.0)*(module(deltac_scales[kk][time])**2.0)/(2.0*np.pi)).real\n",
        "            Pzeta_complex[kk,time] = ((k_array[kk]**3.0)*(module(zetac_scales[kk][time])**2.0)/(2.0*np.pi)).real"
      ],
      "execution_count": 61,
      "outputs": [
        {
          "output_type": "stream",
          "text": [
            "CPU times: user 10.2 s, sys: 11 ms, total: 10.2 s\n",
            "Wall time: 10.3 s\n"
          ],
          "name": "stdout"
        }
      ]
    },
    {
      "cell_type": "code",
      "metadata": {
        "colab": {
          "base_uri": "https://localhost:8080/"
        },
        "id": "oo91ERMyLvaj",
        "outputId": "3f73850f-5b55-47f6-b2a9-ef95077d9cfe"
      },
      "source": [
        "np.shape(Pdelta_complex)"
      ],
      "execution_count": 62,
      "outputs": [
        {
          "output_type": "execute_result",
          "data": {
            "text/plain": [
              "(98, 5935)"
            ]
          },
          "metadata": {
            "tags": []
          },
          "execution_count": 62
        }
      ]
    },
    {
      "cell_type": "code",
      "metadata": {
        "id": "JVI-O9VlLvaj"
      },
      "source": [
        "TT = len(np.log(ac_scales[0][:]))"
      ],
      "execution_count": 63,
      "outputs": []
    },
    {
      "cell_type": "code",
      "metadata": {
        "colab": {
          "base_uri": "https://localhost:8080/"
        },
        "id": "L6mz3mEJLvaj",
        "outputId": "9a037283-c72e-4999-89e4-83985efcc580"
      },
      "source": [
        "np.sqrt(10**-3)"
      ],
      "execution_count": 64,
      "outputs": [
        {
          "output_type": "execute_result",
          "data": {
            "text/plain": [
              "0.03162277660168379"
            ]
          },
          "metadata": {
            "tags": []
          },
          "execution_count": 64
        }
      ]
    },
    {
      "cell_type": "code",
      "metadata": {
        "colab": {
          "base_uri": "https://localhost:8080/",
          "height": 647
        },
        "id": "Cj3Bm7LjLvaj",
        "outputId": "0bf4a04a-5eca-457f-e2d0-8497494ca896"
      },
      "source": [
        "figure, ax = plt.subplots(1, 1,figsize = (14,10),  sharex=True)\n",
        "\n",
        "\n",
        "#plt.plot(k_array/k_end, Pk_complex ,  '-', color='blue', label= r'$P_\\zeta$')\n",
        "#plt.plot(k_array/k_end, Pk_real ,  '-', color='magenta', label= r'$P_\\zeta$')\n",
        "\n",
        "\n",
        "#for i in range(TT):\n",
        "#    i = i + 1\n",
        " #   if i*3000  < TT:\n",
        " #       plt.plot(k_array/k_J, Pdelta_complex[:,i],  '-', color='black')\n",
        "                \n",
        "#plt.plot(k_array/k_end, Pdelta_complex[:,1]/(k_array/k_end)**3.0,  '-', lw =3 , color='magenta', label= r'$t_{end}$')\n",
        "plt.plot(k_array/k_J, Pdelta_complex[:,-1],  '-', lw =3 , color='red')\n",
        "#plt.plot(k_array/k_end, Pdelta_complex[:,100]/(k_array/k_end)**3.0,  '-', lw =3 , color='red', label= r'$t_{rh}$')\n",
        "\n",
        "\n",
        "plt.xlabel(r'$k/k_{J}$',fontsize=30)\n",
        "plt.ylabel(r'$  \\ \\mathcal{P}_\\delta(k)  $',fontsize=30)\n",
        "plt.yscale('log')\n",
        "plt.xscale('log')\n",
        "plt.xticks(fontsize=22)\n",
        "plt.yticks(fontsize=22)\n",
        "\n",
        "plt.grid('on', ls = 'dotted')\n",
        "#plt.savefig('P_delta_H_10.pdf')\n",
        "plt.show()"
      ],
      "execution_count": 65,
      "outputs": [
        {
          "output_type": "display_data",
          "data": {
            "image/png": "[encoded data removed]",
            "text/plain": [
              "<Figure size 1008x720 with 1 Axes>"
            ]
          },
          "metadata": {
            "tags": [],
            "needs_background": "light"
          }
        }
      ]
    },
    {
      "cell_type": "code",
      "metadata": {
        "colab": {
          "base_uri": "https://localhost:8080/"
        },
        "id": "HcEiaIAkLvaj",
        "outputId": "c37413cb-f946-4fed-b03b-f7ba7e77e92c"
      },
      "source": [
        "Pdelta_complex[:,-1][k_array/k_end >= 1 ][0]*np.exp(10)"
      ],
      "execution_count": 66,
      "outputs": [
        {
          "output_type": "execute_result",
          "data": {
            "text/plain": [
              "1.2439271151089586e-14"
            ]
          },
          "metadata": {
            "tags": []
          },
          "execution_count": 66
        }
      ]
    },
    {
      "cell_type": "code",
      "metadata": {
        "colab": {
          "base_uri": "https://localhost:8080/"
        },
        "id": "cmV3pNwELval",
        "outputId": "4f8878f0-7103-4774-c1c9-341333952061"
      },
      "source": [
        "np.log(a_analytic[-1]/a_end)\n",
        "np.exp(e_folds), Pzeta_complex[0,0]"
      ],
      "execution_count": 67,
      "outputs": [
        {
          "output_type": "execute_result",
          "data": {
            "text/plain": [
              "(20.085536923187668, 1.8390609708876496e-20)"
            ]
          },
          "metadata": {
            "tags": []
          },
          "execution_count": 67
        }
      ]
    },
    {
      "cell_type": "code",
      "metadata": {
        "colab": {
          "base_uri": "https://localhost:8080/",
          "height": 535
        },
        "id": "oXq0kgtiLval",
        "outputId": "f187c6bb-fe68-45c6-f905-0003ba9cbe31"
      },
      "source": [
        "figure, ax = plt.subplots(1, 1,figsize = (12,8),  sharex=True)\n",
        "\n",
        "\n",
        "#for i in range(TT):\n",
        "#    i = i + 1\n",
        "#    if i*3000 < TT:\n",
        "#        plt.plot(k_array/k_J, Pzeta_complex[:,i*3000],  '-', color='black')\n",
        "        \n",
        "plt.plot(k_array/k_J, Pzeta_complex[:,-1],  '-', lw=3, color='red')\n",
        "\n",
        "\n",
        "plt.xlabel(r'$k/k_{J}$',fontsize=30)\n",
        "plt.ylabel(r'$\\mathcal{P}_{\\zeta}$',fontsize=30)\n",
        "plt.yscale('log')\n",
        "plt.xscale('log')\n",
        "plt.xticks(fontsize=20)\n",
        "plt.yticks(fontsize=20)\n",
        "plt.grid('on', ls = 'dotted')\n",
        "#plt.savefig('P_zeta_10.pdf')\n",
        "plt.show()"
      ],
      "execution_count": 68,
      "outputs": [
        {
          "output_type": "display_data",
          "data": {
            "image/png": "[encoded data removed]",
            "text/plain": [
              "<Figure size 864x576 with 1 Axes>"
            ]
          },
          "metadata": {
            "tags": [],
            "needs_background": "light"
          }
        }
      ]
    },
    {
      "cell_type": "markdown",
      "metadata": {
        "id": "vmm71D-fLvam"
      },
      "source": [
        "# $1 M_{Pl} = 2.435×10^{18} GeV$\n",
        "# $1 M_{Pl} = 2.17x10^{−8} kg$"
      ]
    },
    {
      "cell_type": "code",
      "metadata": {
        "colab": {
          "base_uri": "https://localhost:8080/"
        },
        "id": "CHBK2cw1Lvan",
        "outputId": "06fdb652-b49d-46a4-801e-68fae16e81f5"
      },
      "source": [
        "k_eV = k_array*(2.435*(10.0**18.0))*(10.0**9.0)     # units eV\n",
        "k_eV"
      ],
      "execution_count": 69,
      "outputs": [
        {
          "output_type": "execute_result",
          "data": {
            "text/plain": [
              "array([2.04973932e-06, 2.19810054e-06, 2.35720022e-06, 2.52781562e-06,\n",
              "       2.71078026e-06, 2.90698797e-06, 3.11739730e-06, 3.34303616e-06,\n",
              "       3.58500689e-06, 3.84449159e-06, 4.12275792e-06, 4.42116532e-06,\n",
              "       4.74117161e-06, 5.08434012e-06, 5.45234735e-06, 5.84699114e-06,\n",
              "       6.27019946e-06, 6.72403981e-06, 7.21072938e-06, 7.73264579e-06,\n",
              "       8.29233878e-06, 8.89254265e-06, 9.53618960e-06, 1.02264241e-05,\n",
              "       1.09666180e-05, 1.17603877e-05, 1.26116107e-05, 1.35244458e-05,\n",
              "       1.45033524e-05, 1.55531127e-05, 1.66788552e-05, 1.78860796e-05,\n",
              "       1.91806835e-05, 2.05689915e-05, 2.20577860e-05, 2.36543402e-05,\n",
              "       2.53664539e-05, 2.72024913e-05, 2.91714220e-05, 3.12828650e-05,\n",
              "       3.35471353e-05, 3.59752947e-05, 3.85792056e-05, 4.13715889e-05,\n",
              "       4.43660864e-05, 4.75773273e-05, 5.10209994e-05, 5.47139264e-05,\n",
              "       5.86741493e-05, 6.29210153e-05, 6.74752717e-05, 7.23591676e-05,\n",
              "       7.75965625e-05, 8.32130427e-05, 8.92360468e-05, 9.56949992e-05,\n",
              "       1.02621454e-04, 1.10049249e-04, 1.18014672e-04, 1.26556636e-04,\n",
              "       1.35716873e-04, 1.45540132e-04, 1.56074404e-04, 1.67371152e-04,\n",
              "       1.79485564e-04, 1.92476824e-04, 2.06408399e-04, 2.21348348e-04,\n",
              "       2.37369659e-04, 2.54550600e-04, 2.72975107e-04, 2.92733190e-04,\n",
              "       3.13921374e-04, 3.36643169e-04, 3.61009580e-04, 3.87139644e-04,\n",
              "       4.15161017e-04, 4.45210591e-04, 4.77435169e-04, 5.11992179e-04,\n",
              "       5.49050444e-04, 5.88791006e-04, 6.31408011e-04, 6.77109657e-04,\n",
              "       7.26119213e-04, 7.78676106e-04, 8.35037095e-04, 8.95477522e-04,\n",
              "       9.60292659e-04, 1.02979915e-03, 1.10433656e-03, 1.18426902e-03,\n",
              "       1.26998704e-03, 1.36190938e-03, 1.46048510e-03, 1.56619578e-03,\n",
              "       1.67955786e-03, 1.80112515e-03])"
            ]
          },
          "metadata": {
            "tags": []
          },
          "execution_count": 69
        }
      ]
    },
    {
      "cell_type": "markdown",
      "metadata": {
        "id": "b89fTzQ8Lvan"
      },
      "source": [
        "#### https://physics.nist.gov/cgi-bin/cuu/Convert?exp=0&num=1&From=ev&To=minv&Action=Convert+value+and+show+factor\n",
        "\n",
        "# $1  eV = 8.065 x 10^5 m^{-1} $"
      ]
    },
    {
      "cell_type": "code",
      "metadata": {
        "colab": {
          "base_uri": "https://localhost:8080/"
        },
        "id": "CQFvksEwLvan",
        "outputId": "5039fcb4-5349-4984-c8d6-142f4574ce1d"
      },
      "source": [
        "k_mtrs = k_eV*8.06554393734921*(10.0**5.0)   # units m^-1\n",
        "\n",
        "k_mtrs"
      ],
      "execution_count": 70,
      "outputs": [
        {
          "output_type": "execute_result",
          "data": {
            "text/plain": [
              "array([   1.65322626,    1.77288765,    1.9012102 ,    2.0388208 ,\n",
              "          2.18639173,    2.34464392,    2.51435049,    2.69634051,\n",
              "          2.89150306,    3.10079158,    3.32522852,    3.56591032,\n",
              "          3.8240128 ,    4.10079687,    4.39761471,    4.7159164 ,\n",
              "          5.05725692,    5.42330386,    5.81584546,    6.23679943,\n",
              "          6.68822228,    7.17231935,    7.69145562,    8.24816725,\n",
              "          8.84517396,    9.48539234,   10.17195006,   10.90820119,\n",
              "         11.69774257,   12.54443137,   13.45240395,   14.42609607,\n",
              "         15.47026454,   16.59001048,   17.79080423,   19.07851206,\n",
              "         20.45942486,   21.94028886,   23.52833859,   25.23133219,\n",
              "         27.05758938,   29.01603202,   31.11622778,   33.36843683,\n",
              "         35.78366195,   38.37370235,   41.15121124,   44.1297577 ,\n",
              "         47.32389293,   50.74922136,   54.42247687,   58.36160456,\n",
              "         62.5858484 ,   67.11584525,   71.97372566,   77.18322203,\n",
              "         82.76978451,   88.76070534,   95.18525219,  102.07481114,\n",
              "        109.46304001,  117.38603281,  125.88249602,  134.99393773,\n",
              "        144.76487042,  155.24302839,  166.47960098,  178.52948265,\n",
              "        191.45154113,  205.30890505,  220.1692723 ,  236.1052408 ,\n",
              "        253.19466314,  271.52102692,  291.17386262,  312.24918096,\n",
              "        334.84994201,  359.08655811,  385.07743331,  412.94954182,\n",
              "        442.83904831,  474.8919731 ,  509.26490555,  546.12576906,\n",
              "        585.65464139,  628.04463442,  673.50283759,  722.25132958,\n",
              "        774.52826323,  830.58902902,  890.70750272,  955.17738337,\n",
              "       1024.31362813, 1098.45399088, 1177.96067234, 1263.22208951,\n",
              "       1354.6547732 , 1452.70540294])"
            ]
          },
          "metadata": {
            "tags": []
          },
          "execution_count": 70
        }
      ]
    },
    {
      "cell_type": "markdown",
      "metadata": {
        "id": "kewCUvuZLvao"
      },
      "source": [
        "# $1 Mpc = 3.086x10^{22} m$"
      ]
    },
    {
      "cell_type": "code",
      "metadata": {
        "colab": {
          "base_uri": "https://localhost:8080/"
        },
        "id": "kDQea_M0Lvao",
        "outputId": "82b7f8c1-2afe-4678-b0f0-130dd282a445"
      },
      "source": [
        "k_Mpc = k_mtrs*(3.086*(10.0**22.0))\n",
        "k_Mpc"
      ],
      "execution_count": 71,
      "outputs": [
        {
          "output_type": "execute_result",
          "data": {
            "text/plain": [
              "array([5.10185623e+22, 5.47113129e+22, 5.86713467e+22, 6.29180098e+22,\n",
              "       6.74720487e+22, 7.23557113e+22, 7.75928560e+22, 8.32090680e+22,\n",
              "       8.92317844e+22, 9.56904282e+22, 1.02616552e+23, 1.10043992e+23,\n",
              "       1.18009035e+23, 1.26550591e+23, 1.35710390e+23, 1.45533180e+23,\n",
              "       1.56066949e+23, 1.67363157e+23, 1.79476991e+23, 1.92467631e+23,\n",
              "       2.06398540e+23, 2.21337775e+23, 2.37358320e+23, 2.54538441e+23,\n",
              "       2.72962069e+23, 2.92719208e+23, 3.13906379e+23, 3.36627089e+23,\n",
              "       3.60992336e+23, 3.87121152e+23, 4.15141186e+23, 4.45189325e+23,\n",
              "       4.77412364e+23, 5.11967724e+23, 5.49024218e+23, 5.88762882e+23,\n",
              "       6.31377851e+23, 6.77077314e+23, 7.26084529e+23, 7.78638911e+23,\n",
              "       8.34997208e+23, 8.95434748e+23, 9.60246789e+23, 1.02974996e+24,\n",
              "       1.10428381e+24, 1.18421245e+24, 1.26992638e+24, 1.36184432e+24,\n",
              "       1.46041534e+24, 1.56612097e+24, 1.67947764e+24, 1.80103912e+24,\n",
              "       1.93139928e+24, 2.07119498e+24, 2.22110917e+24, 2.38187423e+24,\n",
              "       2.55427555e+24, 2.73915537e+24, 2.93741688e+24, 3.15002867e+24,\n",
              "       3.37802941e+24, 3.62253297e+24, 3.88473383e+24, 4.16591292e+24,\n",
              "       4.46744390e+24, 4.79079986e+24, 5.13756049e+24, 5.50941983e+24,\n",
              "       5.90819456e+24, 6.33583281e+24, 6.79442374e+24, 7.28620773e+24,\n",
              "       7.81358730e+24, 8.37913889e+24, 8.98562540e+24, 9.63600972e+24,\n",
              "       1.03334692e+25, 1.10814112e+25, 1.18834896e+25, 1.27436229e+25,\n",
              "       1.36660130e+25, 1.46551663e+25, 1.57159150e+25, 1.68534412e+25,\n",
              "       1.80733022e+25, 1.93814574e+25, 2.07842976e+25, 2.22886760e+25,\n",
              "       2.39019422e+25, 2.56319774e+25, 2.74872335e+25, 2.94767741e+25,\n",
              "       3.16103186e+25, 3.38982902e+25, 3.63518663e+25, 3.89830337e+25,\n",
              "       4.18046463e+25, 4.48304887e+25])"
            ]
          },
          "metadata": {
            "tags": []
          },
          "execution_count": 71
        }
      ]
    },
    {
      "cell_type": "code",
      "metadata": {
        "colab": {
          "base_uri": "https://localhost:8080/"
        },
        "id": "5IAXKjLiLvao",
        "outputId": "616a7bbd-3b95-4703-db71-bbb7942ac405"
      },
      "source": [
        "R_Mpc = 2.0*np.pi/k_Mpc\n",
        "R_Mpc"
      ],
      "execution_count": 72,
      "outputs": [
        {
          "output_type": "execute_result",
          "data": {
            "text/plain": [
              "array([1.23154888e-22, 1.14842525e-22, 1.07091207e-22, 9.98630650e-23,\n",
              "       9.31227883e-23, 8.68374479e-23, 8.09763377e-23, 7.55108242e-23,\n",
              "       7.04142067e-23, 6.56615863e-23, 6.12297449e-23, 5.70970316e-23,\n",
              "       5.32432565e-23, 4.96495927e-23, 4.62984839e-23, 4.31735588e-23,\n",
              "       4.02595512e-23, 3.75422251e-23, 3.50083054e-23, 3.26454131e-23,\n",
              "       3.04420047e-23, 2.83873157e-23, 2.64713084e-23, 2.46846224e-23,\n",
              "       2.30185291e-23, 2.14648890e-23, 2.00161122e-23, 1.86651209e-23,\n",
              "       1.74053150e-23, 1.62305399e-23, 1.51350565e-23, 1.41135130e-23,\n",
              "       1.31609187e-23, 1.22726200e-23, 1.14442771e-23, 1.06718435e-23,\n",
              "       9.95154533e-24, 9.27986387e-24, 8.65351768e-24, 8.06944684e-24,\n",
              "       7.52479798e-24, 7.01691030e-24, 6.54330259e-24, 6.10166113e-24,\n",
              "       5.68982834e-24, 5.30579229e-24, 4.94767682e-24, 4.61373242e-24,\n",
              "       4.30232767e-24, 4.01194124e-24, 3.74115449e-24, 3.48864455e-24,\n",
              "       3.25317782e-24, 3.03360396e-24, 2.82885028e-24, 2.63791649e-24,\n",
              "       2.45986981e-24, 2.29384042e-24, 2.13901722e-24, 1.99464385e-24,\n",
              "       1.86001498e-24, 1.73447291e-24, 1.61740433e-24, 1.50823731e-24,\n",
              "       1.40643855e-24, 1.31151071e-24, 1.22299004e-24, 1.14044409e-24,\n",
              "       1.06346960e-24, 9.91690516e-25, 9.24756174e-25, 8.62339579e-25,\n",
              "       8.04135804e-25, 7.49860503e-25, 6.99248525e-25, 6.52052612e-25,\n",
              "       6.08042196e-25, 5.67002271e-25, 5.28732344e-25, 4.93045453e-25,\n",
              "       4.59767256e-25, 4.28735177e-25, 3.99797614e-25, 3.72813197e-25,\n",
              "       3.47650099e-25, 3.24185389e-25, 3.02304434e-25, 2.81900338e-25,\n",
              "       2.62873421e-25, 2.45130729e-25, 2.28585583e-25, 2.13157155e-25,\n",
              "       1.98770072e-25, 1.85354048e-25, 1.72843541e-25, 1.61177433e-25,\n",
              "       1.50298731e-25, 1.40154290e-25])"
            ]
          },
          "metadata": {
            "tags": []
          },
          "execution_count": 72
        }
      ]
    },
    {
      "cell_type": "code",
      "metadata": {
        "colab": {
          "base_uri": "https://localhost:8080/"
        },
        "id": "-6rjEq2RLvao",
        "outputId": "a767f909-1628-48a3-9d33-09892ef2b743"
      },
      "source": [
        "M_H = (4.0*np.pi/(np.sqrt(H2_complex))).real  #M_Pl\n",
        "M_H"
      ],
      "execution_count": 73,
      "outputs": [
        {
          "output_type": "execute_result",
          "data": {
            "text/plain": [
              "array([2.16441843e+10, 2.19725147e+10, 2.23007949e+10, ...,\n",
              "       1.95862170e+12, 1.95894826e+12, 1.95927483e+12])"
            ]
          },
          "metadata": {
            "tags": []
          },
          "execution_count": 73
        }
      ]
    },
    {
      "cell_type": "code",
      "metadata": {
        "colab": {
          "base_uri": "https://localhost:8080/"
        },
        "id": "wxLq_C3OLvao",
        "outputId": "56d062f2-0315-4ce0-da5b-370fd5e11040"
      },
      "source": [
        "M_H_kg = M_H*2.1764*(10.0**(-8.0)) \n",
        "M_H_kg.real"
      ],
      "execution_count": 74,
      "outputs": [
        {
          "output_type": "execute_result",
          "data": {
            "text/plain": [
              "array([  471.06402795,   478.20981079,   485.35450127, ...,\n",
              "       42627.44258266, 42634.54994991, 42641.65731715])"
            ]
          },
          "metadata": {
            "tags": []
          },
          "execution_count": 74
        }
      ]
    },
    {
      "cell_type": "code",
      "metadata": {
        "id": "xhegdlLMLvap"
      },
      "source": [
        "M_H_Solar = M_H_kg*(5.02785*(10**(-31)))"
      ],
      "execution_count": 75,
      "outputs": []
    },
    {
      "cell_type": "code",
      "metadata": {
        "colab": {
          "base_uri": "https://localhost:8080/"
        },
        "id": "qHJ_xO0CLvap",
        "outputId": "848b81bf-19b5-44af-8472-728b61e76c8e"
      },
      "source": [
        "M_H_Solar"
      ],
      "execution_count": 76,
      "outputs": [
        {
          "output_type": "execute_result",
          "data": {
            "text/plain": [
              "array([2.36843927e-28, 2.40436720e-28, 2.44028963e-28, ...,\n",
              "       2.14324387e-26, 2.14360122e-26, 2.14395857e-26])"
            ]
          },
          "metadata": {
            "tags": []
          },
          "execution_count": 76
        }
      ]
    },
    {
      "cell_type": "code",
      "metadata": {
        "colab": {
          "base_uri": "https://localhost:8080/"
        },
        "id": "s8YbhubXLvap",
        "outputId": "71f9d316-9af1-4766-d1e2-5b9be06bea32"
      },
      "source": [
        "len(deltac_scales[1])"
      ],
      "execution_count": 77,
      "outputs": [
        {
          "output_type": "execute_result",
          "data": {
            "text/plain": [
              "5935"
            ]
          },
          "metadata": {
            "tags": []
          },
          "execution_count": 77
        }
      ]
    },
    {
      "cell_type": "code",
      "metadata": {
        "colab": {
          "base_uri": "https://localhost:8080/"
        },
        "id": "oSBFhRQ9Lvap",
        "outputId": "050915f5-7b2c-4a17-9a98-768fe82db025"
      },
      "source": [
        "len(Pdelta_complex[0:15])"
      ],
      "execution_count": 78,
      "outputs": [
        {
          "output_type": "execute_result",
          "data": {
            "text/plain": [
              "15"
            ]
          },
          "metadata": {
            "tags": []
          },
          "execution_count": 78
        }
      ]
    },
    {
      "cell_type": "code",
      "metadata": {
        "colab": {
          "base_uri": "https://localhost:8080/"
        },
        "id": "B9d6LkApLvap",
        "outputId": "81211874-4905-49d6-b170-527d3102d7b6"
      },
      "source": [
        "k_array"
      ],
      "execution_count": 79,
      "outputs": [
        {
          "output_type": "execute_result",
          "data": {
            "text/plain": [
              "array([8.41782064e-34, 9.02710695e-34, 9.68049373e-34, 1.03811730e-33,\n",
              "       1.11325678e-33, 1.19383489e-33, 1.28024530e-33, 1.37291013e-33,\n",
              "       1.47228209e-33, 1.57884665e-33, 1.69312440e-33, 1.81567364e-33,\n",
              "       1.94709306e-33, 2.08802469e-33, 2.23915702e-33, 2.40122840e-33,\n",
              "       2.57503058e-33, 2.76141265e-33, 2.96128516e-33, 3.17562455e-33,\n",
              "       3.40547794e-33, 3.65196824e-33, 3.91629963e-33, 4.19976347e-33,\n",
              "       4.50374457e-33, 4.82972799e-33, 5.17930626e-33, 5.55418719e-33,\n",
              "       5.95620220e-33, 6.38731527e-33, 6.84963253e-33, 7.34541256e-33,\n",
              "       7.87707741e-33, 8.44722444e-33, 9.05863902e-33, 9.71430811e-33,\n",
              "       1.04174349e-32, 1.11714543e-32, 1.19800501e-32, 1.28471725e-32,\n",
              "       1.37770576e-32, 1.47742483e-32, 1.58436163e-32, 1.69903856e-32,\n",
              "       1.82201587e-32, 1.95389434e-32, 2.09531825e-32, 2.24697850e-32,\n",
              "       2.40961599e-32, 2.58402527e-32, 2.77105839e-32, 2.97162906e-32,\n",
              "       3.18671714e-32, 3.41737342e-32, 3.66472472e-32, 3.92997943e-32,\n",
              "       4.21443342e-32, 4.51947635e-32, 4.84659844e-32, 5.19739780e-32,\n",
              "       5.57358820e-32, 5.97700747e-32, 6.40962643e-32, 6.87355859e-32,\n",
              "       7.37107040e-32, 7.90459238e-32, 8.47673096e-32, 9.09028123e-32,\n",
              "       9.74824060e-32, 1.04538234e-31, 1.12104767e-31, 1.20218969e-31,\n",
              "       1.28920482e-31, 1.38251815e-31, 1.48258554e-31, 1.58989587e-31,\n",
              "       1.70497337e-31, 1.82838025e-31, 1.96071938e-31, 2.10263729e-31,\n",
              "       2.25482729e-31, 2.41803288e-31, 2.59305138e-31, 2.78073781e-31,\n",
              "       2.98200909e-31, 3.19784848e-31, 3.42931045e-31, 3.67752576e-31,\n",
              "       3.94370702e-31, 4.22915462e-31, 4.53526307e-31, 4.86352781e-31,\n",
              "       5.21555253e-31, 5.59305698e-31, 5.99788541e-31, 6.43201553e-31,\n",
              "       6.89756822e-31, 7.39681786e-31])"
            ]
          },
          "metadata": {
            "tags": []
          },
          "execution_count": 79
        }
      ]
    },
    {
      "cell_type": "markdown",
      "metadata": {
        "id": "BYxAEXdoLvap"
      },
      "source": [
        "# $\\sigma(R)^2 = \\int^\\infty_0 exp(-k^2 R^2) \\mathcal{P}_\\delta(k,t_{end}) \\dfrac{dk}{k} $"
      ]
    },
    {
      "cell_type": "code",
      "metadata": {
        "colab": {
          "base_uri": "https://localhost:8080/"
        },
        "id": "0cO3IlMALvap",
        "outputId": "7875b83f-e129-4c4d-fc44-036051a1717a"
      },
      "source": [
        "R_array = 1.0/k_array #Mpl^{-1}\n",
        "R_array"
      ],
      "execution_count": 80,
      "outputs": [
        {
          "output_type": "execute_result",
          "data": {
            "text/plain": [
              "array([1.18795594e+33, 1.10777462e+33, 1.03300516e+33, 9.63282281e+32,\n",
              "       8.98265359e+32, 8.37636766e+32, 7.81100312e+32, 7.28379797e+32,\n",
              "       6.79217663e+32, 6.33373736e+32, 5.90624054e+32, 5.50759771e+32,\n",
              "       5.13586134e+32, 4.78921540e+32, 4.46596638e+32, 4.16453513e+32,\n",
              "       3.88344903e+32, 3.62133489e+32, 3.37691220e+32, 3.14898686e+32,\n",
              "       2.93644539e+32, 2.73824945e+32, 2.55343078e+32, 2.38108648e+32,\n",
              "       2.22037459e+32, 2.07050998e+32, 1.93076051e+32, 1.80044346e+32,\n",
              "       1.67892218e+32, 1.56560301e+32, 1.45993233e+32, 1.36139392e+32,\n",
              "       1.26950638e+32, 1.18382080e+32, 1.10391859e+32, 1.02940939e+32,\n",
              "       9.59929207e+31, 8.95138601e+31, 8.34721050e+31, 7.78381392e+31,\n",
              "       7.25844391e+31, 6.76853385e+31, 6.31169036e+31, 5.88568161e+31,\n",
              "       5.48842640e+31, 5.11798401e+31, 4.77254469e+31, 4.45042087e+31,\n",
              "       4.15003886e+31, 3.86993120e+31, 3.60872945e+31, 3.36515756e+31,\n",
              "       3.13802561e+31, 2.92622397e+31, 2.72871792e+31, 2.54454258e+31,\n",
              "       2.37279819e+31, 2.21264572e+31, 2.06330277e+31, 1.92403976e+31,\n",
              "       1.79417633e+31, 1.67307805e+31, 1.56015333e+31, 1.45485048e+31,\n",
              "       1.35665507e+31, 1.26508737e+31, 1.17970006e+31, 1.10007598e+31,\n",
              "       1.02582614e+31, 9.56587805e+30, 8.92022728e+30, 8.31815483e+30,\n",
              "       7.75671937e+30, 7.23317811e+30, 6.74497337e+30, 6.28972010e+30,\n",
              "       5.86519423e+30, 5.46932182e+30, 5.10016890e+30, 4.75593202e+30,\n",
              "       4.43492948e+30, 4.13559306e+30, 3.85646041e+30, 3.59616788e+30,\n",
              "       3.35344384e+30, 3.12710250e+30, 2.91603812e+30, 2.71921957e+30,\n",
              "       2.53568532e+30, 2.36453876e+30, 2.20494376e+30, 2.05612066e+30,\n",
              "       1.91734240e+30, 1.78793101e+30, 1.66725426e+30, 1.55472261e+30,\n",
              "       1.44978631e+30, 1.35193271e+30])"
            ]
          },
          "metadata": {
            "tags": []
          },
          "execution_count": 80
        }
      ]
    },
    {
      "cell_type": "code",
      "metadata": {
        "colab": {
          "base_uri": "https://localhost:8080/"
        },
        "id": "5jgisGcDLvar",
        "outputId": "4374b10f-61f9-4bc9-cd09-5fe18c556be5"
      },
      "source": [
        "sigma2_end = []\n",
        "sigma2_final = []\n",
        "\n",
        "\n",
        "for rr in range(len(R_array)):\n",
        "    sigma2_end.append(integrate.simps(Pdelta_complex[:,0]*(np.exp(-(k_array*R_array[rr])**2.0))/k_array , k_array))\n",
        "    \n",
        "for rr in range(len(R_array)):\n",
        "    sigma2_final.append(integrate.simps(Pdelta_complex[:,-1]*(np.exp(-(k_array*R_array[rr])**2.0))/k_array , k_array))\n",
        "    \n",
        "\n",
        "sigma2_end = np.array(sigma2_end)\n",
        "sigma2_final = np.array(sigma2_final)\n",
        "sigma2_final, sigma2_end"
      ],
      "execution_count": 81,
      "outputs": [
        {
          "output_type": "execute_result",
          "data": {
            "text/plain": [
              "(array([2.15771791e-21, 2.80902524e-21, 3.60119606e-21, 4.55835181e-21,\n",
              "        5.71044125e-21, 7.09527743e-21, 8.76123127e-21, 1.07709448e-20,\n",
              "        1.32067701e-20, 1.61792321e-20, 1.98406969e-20, 2.44076422e-20,\n",
              "        3.01965459e-20, 3.76807033e-20, 4.75787587e-20, 6.09912422e-20,\n",
              "        7.96102094e-20, 1.06041043e-19, 1.44297422e-19, 2.00564741e-19,\n",
              "        2.84380744e-19, 4.10465452e-19, 6.01562555e-19, 8.92857454e-19,\n",
              "        1.33885419e-18, 2.02408842e-18, 3.07982590e-18, 4.71009928e-18,\n",
              "        7.23230903e-18, 1.11405230e-17, 1.72041153e-17, 2.66213464e-17,\n",
              "        4.12581954e-17, 6.40191805e-17, 9.94219614e-17, 1.54485589e-16,\n",
              "        2.40099795e-16, 3.73129135e-16, 5.79634798e-16, 8.99788199e-16,\n",
              "        1.39533229e-15, 2.16085878e-15, 3.34076882e-15, 5.15464956e-15,\n",
              "        7.93503972e-15, 1.21833247e-14, 1.86520056e-14, 2.84651128e-14,\n",
              "        4.32934747e-14, 6.56084419e-14, 9.90472273e-14, 1.48936243e-13,\n",
              "        2.23037026e-13, 3.32604345e-13, 4.93880328e-13, 7.30195201e-13,\n",
              "        1.07490897e-12, 1.57551507e-12, 2.29934470e-12, 3.34147053e-12,\n",
              "        4.83562484e-12, 6.96924052e-12, 1.00041203e-11, 1.43047766e-11,\n",
              "        2.03772100e-11, 2.89218761e-11, 4.09059190e-11, 5.76615431e-11,\n",
              "        8.10198309e-11, 1.13492612e-10, 1.58519469e-10, 2.20803058e-10,\n",
              "        3.06764197e-10, 4.25159470e-10, 5.87919448e-10, 8.11286671e-10,\n",
              "        1.11736118e-09, 1.53619950e-09, 2.10865508e-09, 2.89015607e-09,\n",
              "        3.95547475e-09, 5.40405340e-09, 7.36449903e-09, 9.99572207e-09,\n",
              "        1.34816635e-08, 1.80174933e-08, 2.37877025e-08, 3.09396738e-08,\n",
              "        3.95585378e-08, 4.96492689e-08, 6.11300331e-08, 7.38377276e-08,\n",
              "        8.75437247e-08, 1.01975976e-07, 1.16843134e-07, 1.31856949e-07,\n",
              "        1.46750439e-07, 1.61290634e-07]),\n",
              " array([3.04521771e-21, 3.81585391e-21, 4.68971148e-21, 5.66573690e-21,\n",
              "        6.74184288e-21, 7.91527880e-21, 9.18299663e-21, 1.05420160e-20,\n",
              "        1.19898149e-20, 1.35247978e-20, 1.51469107e-20, 1.68584872e-20,\n",
              "        1.86654059e-20, 2.05786405e-20, 2.26162936e-20, 2.48062368e-20,\n",
              "        2.71895554e-20, 2.98251144e-20, 3.27957408e-20, 3.62167785e-20,\n",
              "        4.02481319e-20, 4.51114518e-20, 5.11148831e-20, 5.86889475e-20,\n",
              "        6.84388347e-20, 8.12209383e-20, 9.82552973e-20, 1.21291372e-19,\n",
              "        1.52853238e-19, 1.96603349e-19, 2.57883684e-19, 3.44522830e-19,\n",
              "        4.68042427e-19, 6.45464304e-19, 9.02022353e-19, 1.27523875e-18,\n",
              "        1.82105977e-18, 2.62310373e-18, 3.80661516e-18, 5.55954117e-18,\n",
              "        8.16439305e-18, 1.20464487e-17, 1.78467258e-17, 2.65325201e-17,\n",
              "        3.95649328e-17, 5.91528812e-17, 8.86383917e-17, 1.33081225e-16,\n",
              "        2.00146223e-16, 3.01450489e-16, 4.54609133e-16, 6.86342465e-16,\n",
              "        1.03719617e-15, 1.56871283e-15, 2.37432941e-15, 3.59593821e-15,\n",
              "        5.44905737e-15, 8.26108983e-15, 1.25294812e-14, 1.90101318e-14,\n",
              "        2.88518095e-14, 4.38005067e-14, 6.65101521e-14, 1.01015047e-13,\n",
              "        1.53448225e-13, 2.33133777e-13, 3.54247877e-13, 5.38344617e-13,\n",
              "        8.18197024e-13, 1.24363812e-12, 1.89044362e-12, 2.87384028e-12,\n",
              "        4.36904896e-12, 6.64252611e-12, 1.00994757e-11, 1.53561065e-11,\n",
              "        2.33495148e-11, 3.55046261e-11, 5.39863695e-11, 8.20727044e-11,\n",
              "        1.24677413e-10, 1.89006513e-10, 2.85229627e-10, 4.26909684e-10,\n",
              "        6.30843977e-10, 9.16028953e-10, 1.30170363e-09, 1.80476435e-09,\n",
              "        2.43711224e-09, 3.20356089e-09, 4.10077292e-09, 5.11739790e-09,\n",
              "        6.23527893e-09, 7.43138526e-09, 8.68005143e-09, 9.95514342e-09,\n",
              "        1.12318812e-08, 1.24881760e-08]))"
            ]
          },
          "metadata": {
            "tags": []
          },
          "execution_count": 81
        }
      ]
    },
    {
      "cell_type": "code",
      "metadata": {
        "id": "XIy110Q5Lvas"
      },
      "source": [
        "M_array = 4.0*np.pi*(k_end**3.0)/(H_end*k_array**3.0) #Mpl \n",
        "\n",
        "Mpl = 2.1764*(10.0**(-8.0)) "
      ],
      "execution_count": 82,
      "outputs": []
    },
    {
      "cell_type": "code",
      "metadata": {
        "colab": {
          "base_uri": "https://localhost:8080/"
        },
        "id": "NxV95LFLLvas",
        "outputId": "cf237b8b-3aab-4d67-8b76-a5826baa3746"
      },
      "source": [
        "M_array = M_array[M_array>=1.0]\n",
        "M_array < M_H[-1]\n",
        "M_array"
      ],
      "execution_count": 83,
      "outputs": [
        {
          "output_type": "execute_result",
          "data": {
            "text/plain": [
              "array([1.95927211e+12, 1.58872231e+12, 1.28825321e+12, 1.04461071e+12,\n",
              "       8.47047399e+11, 6.86848498e+11, 5.56947415e+11, 4.51614037e+11,\n",
              "       3.66201966e+11, 2.96943560e+11, 2.40783737e+11, 1.95245211e+11,\n",
              "       1.58319215e+11, 1.28376895e+11, 1.04097454e+11, 8.44098926e+10,\n",
              "       6.84457658e+10, 5.55008745e+10, 4.50042021e+10, 3.64927259e+10,\n",
              "       2.95909934e+10, 2.39945597e+10, 1.94565585e+10, 1.57768125e+10,\n",
              "       1.27930030e+10, 1.03735103e+10, 8.41160715e+09, 6.82075141e+09,\n",
              "       5.53076824e+09, 4.48475477e+09, 3.63656990e+09, 2.94879906e+09,\n",
              "       2.39110374e+09, 1.93888325e+09, 1.57218952e+09, 1.27484721e+09,\n",
              "       1.03374013e+09, 8.38232733e+08, 6.79700916e+08, 5.51151628e+08,\n",
              "       4.46914386e+08, 3.62391142e+08, 2.93853463e+08, 2.38278058e+08,\n",
              "       1.93213422e+08, 1.56671691e+08, 1.27040961e+08, 1.03014180e+08,\n",
              "       8.35314942e+07, 6.77334956e+07, 5.49233134e+07, 4.45358729e+07,\n",
              "       3.61129701e+07, 2.92830593e+07, 2.37448640e+07, 1.92540868e+07,\n",
              "       1.56126335e+07, 1.26598746e+07, 1.02655600e+07, 8.32407308e+06,\n",
              "       6.74977232e+06, 5.47321317e+06, 4.43808487e+06, 3.59872650e+06,\n",
              "       2.91811284e+06, 2.36622109e+06, 1.91870656e+06, 1.55582878e+06,\n",
              "       1.26158071e+06, 1.02298268e+06, 8.29509795e+05, 6.72627715e+05,\n",
              "       5.45416155e+05, 4.42263641e+05, 3.58619975e+05, 2.90795523e+05,\n",
              "       2.35798455e+05, 1.91202777e+05, 1.55041312e+05, 1.25718929e+05,\n",
              "       1.01942179e+05, 8.26622367e+04, 6.70286376e+04, 5.43517625e+04,\n",
              "       4.40724172e+04, 3.57371661e+04, 2.89783297e+04, 2.34977668e+04,\n",
              "       1.90537222e+04, 1.54501631e+04, 1.25281316e+04, 1.01587330e+04,\n",
              "       8.23744991e+03, 6.67953187e+03, 5.41625703e+03, 4.39190063e+03,\n",
              "       3.56127692e+03, 2.88774595e+03])"
            ]
          },
          "metadata": {
            "tags": []
          },
          "execution_count": 83
        }
      ]
    },
    {
      "cell_type": "code",
      "metadata": {
        "id": "7jx3YKSSLvau"
      },
      "source": [
        "Mend_horizon = (M_H[0].real)*2.1764*(10.0**(-8.0)) #kg\n",
        "Mf_horizon = (M_H[-1].real)*2.1764*(10.0**(-8.0))  #kg"
      ],
      "execution_count": 84,
      "outputs": []
    },
    {
      "cell_type": "code",
      "metadata": {
        "colab": {
          "base_uri": "https://localhost:8080/"
        },
        "id": "MxWdf3RrLvau",
        "outputId": "67b772f4-4a79-479f-c1fa-b87aa29797d6"
      },
      "source": [
        "M_array[-1]*2.1764*(10.0**(-8.0)) "
      ],
      "execution_count": 85,
      "outputs": [
        {
          "output_type": "execute_result",
          "data": {
            "text/plain": [
              "6.284890294588446e-05"
            ]
          },
          "metadata": {
            "tags": []
          },
          "execution_count": 85
        }
      ]
    },
    {
      "cell_type": "code",
      "metadata": {
        "colab": {
          "base_uri": "https://localhost:8080/"
        },
        "id": "SOaSnzwyLvau",
        "outputId": "aadcd5ee-820c-4f44-b3b8-f9a3eb2e9d88"
      },
      "source": [
        "M_kg = M_array*2.1764*(10.0**(-8.0)) \n",
        "M_kg"
      ],
      "execution_count": 86,
      "outputs": [
        {
          "output_type": "execute_result",
          "data": {
            "text/plain": [
              "array([4.26415981e+04, 3.45769524e+04, 2.80375429e+04, 2.27349075e+04,\n",
              "       1.84351396e+04, 1.49485707e+04, 1.21214035e+04, 9.82892789e+03,\n",
              "       7.97001958e+03, 6.46267964e+03, 5.24041725e+03, 4.24931677e+03,\n",
              "       3.44565941e+03, 2.79399475e+03, 2.26557699e+03, 1.83709690e+03,\n",
              "       1.48965365e+03, 1.20792103e+03, 9.79471454e+02, 7.94227687e+02,\n",
              "       6.44018380e+02, 5.22217597e+02, 4.23452539e+02, 3.43366547e+02,\n",
              "       2.78426918e+02, 2.25769078e+02, 1.83070218e+02, 1.48446834e+02,\n",
              "       1.20371640e+02, 9.76062027e+01, 7.91463073e+01, 6.41776627e+01,\n",
              "       5.20399818e+01, 4.21978550e+01, 3.42171328e+01, 2.77457746e+01,\n",
              "       2.24983202e+01, 1.82432972e+01, 1.47930107e+01, 1.19952640e+01,\n",
              "       9.72664469e+00, 7.88708082e+00, 6.39542677e+00, 5.18588366e+00,\n",
              "       4.20509691e+00, 3.40980269e+00, 2.76491948e+00, 2.24200062e+00,\n",
              "       1.81797944e+00, 1.47415180e+00, 1.19535099e+00, 9.69278737e-01,\n",
              "       7.85962681e-01, 6.37316503e-01, 5.16783221e-01, 4.19045946e-01,\n",
              "       3.39793356e-01, 2.75529512e-01, 2.23419647e-01, 1.81165126e-01,\n",
              "       1.46902045e-01, 1.19119011e-01, 9.65904790e-02, 7.83226836e-02,\n",
              "       6.35098079e-02, 5.14984358e-02, 4.17587296e-02, 3.38610575e-02,\n",
              "       2.74570425e-02, 2.22641950e-02, 1.80534512e-02, 1.46390696e-02,\n",
              "       1.18704372e-02, 9.62542588e-03, 7.80500514e-03, 6.32887376e-03,\n",
              "       5.13191757e-03, 4.16133723e-03, 3.37431911e-03, 2.73614678e-03,\n",
              "       2.21866959e-03, 1.79906092e-03, 1.45881127e-03, 1.18291176e-03,\n",
              "       9.59192089e-04, 7.77783683e-04, 6.30684368e-04, 5.11405397e-04,\n",
              "       4.14685210e-04, 3.36257350e-04, 2.72662257e-04, 2.21094666e-04,\n",
              "       1.79279860e-04, 1.45373332e-04, 1.17879418e-04, 9.55853253e-05,\n",
              "       7.75076308e-05, 6.28489029e-05])"
            ]
          },
          "metadata": {
            "tags": []
          },
          "execution_count": 86
        }
      ]
    },
    {
      "cell_type": "code",
      "metadata": {
        "colab": {
          "base_uri": "https://localhost:8080/",
          "height": 532
        },
        "id": "8BpqzI8aLvau",
        "outputId": "1af90265-e459-4c87-b19a-62b08cb86e4a"
      },
      "source": [
        "figure, ax = plt.subplots(1, 1,figsize = (12,8),  sharex=True)\n",
        "\n",
        "plt.plot( 1000.0*M_kg, sigma2_final.real,  'o' , color='magenta', label= r'$\\sigma^2(M, t_r)$')\n",
        "plt.plot( 1000.0*M_kg, sigma2_end.real,  '.-' , color='purple', label= r'$\\sigma^2(M, t_{end})$')\n",
        "plt.plot( 1000.0*M_kg, Pdelta_complex[:,-1].real,  '*' , color='black', label= r'$P_\\delta(M, t_r)$')\n",
        "#plt.plot( 1000.0*M_kg, np.exp(2.0*e_folds)*Pdelta_complex[:,0].real,  '.-' , color='red') \n",
        "\n",
        "plt.axvline(x=1000.0*Mend_horizon, color='blue', linestyle='-')\n",
        "\n",
        "\n",
        "plt.xlabel(r'$M [g]$',fontsize=30)\n",
        "plt.yscale('log')\n",
        "plt.xscale('log')\n",
        "plt.xticks(fontsize=20)\n",
        "plt.yticks(fontsize=20)\n",
        "\n",
        "\n",
        "\n",
        "leg1 = plt.legend(loc='upper right', frameon=True,  fontsize = 22, borderpad=0.5, labelspacing=0.5)\n",
        "leg1.get_frame().set_edgecolor('black')\n",
        "\n",
        "plt.grid('on', ls = 'dotted')\n",
        "plt.savefig('sigma_vs_spectrum.pdf')\n",
        "plt.show()"
      ],
      "execution_count": 87,
      "outputs": [
        {
          "output_type": "display_data",
          "data": {
            "image/png": "[encoded data removed]",
            "text/plain": [
              "<Figure size 864x576 with 1 Axes>"
            ]
          },
          "metadata": {
            "tags": [],
            "needs_background": "light"
          }
        }
      ]
    },
    {
      "cell_type": "markdown",
      "metadata": {
        "id": "cDqP1yRzLvau"
      },
      "source": [
        "## $\\mathcal{lP} = \\dfrac{1}{\\sqrt{2\\pi} \\sigma(M)} \\exp \\left(- \\dfrac{\\delta^2}{2\\sigma(M)^2} \\right) $"
      ]
    },
    {
      "cell_type": "code",
      "metadata": {
        "colab": {
          "base_uri": "https://localhost:8080/"
        },
        "id": "pkliqWLxLvau",
        "outputId": "748f2bf4-7969-427f-8171-117e1ab8ba6a"
      },
      "source": [
        "H_gamma = np.sqrt(H2_complex[-1].real)\n",
        "H_gamma"
      ],
      "execution_count": 88,
      "outputs": [
        {
          "output_type": "execute_result",
          "data": {
            "text/plain": [
              "6.4137865940995086e-12"
            ]
          },
          "metadata": {
            "tags": []
          },
          "execution_count": 88
        }
      ]
    },
    {
      "cell_type": "code",
      "metadata": {
        "colab": {
          "base_uri": "https://localhost:8080/"
        },
        "id": "mJ56nN3JLvav",
        "outputId": "cef0cfbe-1a8b-4a83-c0d2-15cc5a00a7b0"
      },
      "source": [
        "delta_crit = 1.68\n",
        "delta_crit_Venin = ((3.0*np.pi/2.0)**(2.0/3.0))*((H_end/H_gamma)-(a_end*H_end/k_array)**3.0)**(-2.0/3.0)\n",
        "delta_crit_Venin[0] = delta_crit_Venin[1]  \n",
        "\n",
        "delta_crit_Marti = ((3.0*np.pi/2.0)**(2.0/3.0))*(((H_end/H_gamma)*(k_array/k_end)**3.0)-1.0)**(-2.0/3.0)  \n",
        "delta_crit_Marti[0] = delta_crit_Marti[1]  \n",
        "\n",
        "delta_x = np.linspace(-100,100,10000)\n",
        "delta_x, delta_crit_Venin, delta_crit_Marti"
      ],
      "execution_count": 89,
      "outputs": [
        {
          "output_type": "execute_result",
          "data": {
            "text/plain": [
              "(array([-100.      ,  -99.979998,  -99.959996, ...,   99.959996,\n",
              "          99.979998,  100.      ]),\n",
              " array([0.42472508, 0.42472508, 0.28587976, 0.23254124, 0.20411677,\n",
              "        0.1866033 , 0.17489396, 0.16665   , 0.16063888, 0.15614546,\n",
              "        0.1527248 , 0.15008496, 0.14802637, 0.14640806, 0.14512786,\n",
              "        0.1441101 , 0.14329782, 0.1426475 , 0.14212556, 0.14170582,\n",
              "        0.14136774, 0.14109507, 0.14087493, 0.14069706, 0.14055324,\n",
              "        0.14043688, 0.14034271, 0.14026647, 0.14020472, 0.1401547 ,\n",
              "        0.14011417, 0.14008133, 0.14005472, 0.14003314, 0.14001566,\n",
              "        0.14000148, 0.13998999, 0.13998067, 0.13997312, 0.13996699,\n",
              "        0.13996203, 0.139958  , 0.13995474, 0.13995209, 0.13994994,\n",
              "        0.1399482 , 0.13994679, 0.13994565, 0.13994472, 0.13994397,\n",
              "        0.13994336, 0.13994286, 0.13994246, 0.13994214, 0.13994187,\n",
              "        0.13994166, 0.13994149, 0.13994135, 0.13994123, 0.13994114,\n",
              "        0.13994106, 0.139941  , 0.13994095, 0.13994091, 0.13994088,\n",
              "        0.13994086, 0.13994083, 0.13994082, 0.1399408 , 0.13994079,\n",
              "        0.13994078, 0.13994078, 0.13994077, 0.13994076, 0.13994076,\n",
              "        0.13994076, 0.13994075, 0.13994075, 0.13994075, 0.13994075,\n",
              "        0.13994075, 0.13994075, 0.13994075, 0.13994075, 0.13994075,\n",
              "        0.13994075, 0.13994074, 0.13994074, 0.13994074, 0.13994074,\n",
              "        0.13994074, 0.13994074, 0.13994074, 0.13994074, 0.13994074,\n",
              "        0.13994074, 0.13994074, 0.13994074]),\n",
              " array([7.41810385e+00, 7.41810385e+00, 4.34180757e+00, 3.07106713e+00,\n",
              "        2.34406777e+00, 1.86342947e+00, 1.51869513e+00, 1.25835530e+00,\n",
              "        1.05475302e+00, 8.91521141e-01, 7.58252757e-01, 6.47953390e-01,\n",
              "        5.55709517e-01, 4.77942786e-01, 4.11968365e-01, 3.55721129e-01,\n",
              "        3.07579203e-01, 2.66246384e-01, 2.30671483e-01, 1.99991518e-01,\n",
              "        1.73490758e-01, 1.50570548e-01, 1.30726632e-01, 1.13531802e-01,\n",
              "        9.86223896e-02, 8.56876075e-02, 7.44609996e-02, 6.47135191e-02,\n",
              "        5.62478528e-02, 4.88937264e-02, 4.25039897e-02, 3.69513281e-02,\n",
              "        3.21254845e-02, 2.79309010e-02, 2.42847071e-02, 2.11149986e-02,\n",
              "        1.83593612e-02, 1.59635994e-02, 1.38806417e-02, 1.20695951e-02,\n",
              "        1.04949278e-02, 9.12576165e-03, 7.93525982e-03, 6.90009543e-03,\n",
              "        5.99999097e-03, 5.21731858e-03, 4.53675302e-03, 3.94497037e-03,\n",
              "        3.43038628e-03, 2.98292855e-03, 2.59383961e-03, 2.25550473e-03,\n",
              "        1.96130284e-03, 1.70547677e-03, 1.48302048e-03, 1.28958106e-03,\n",
              "        1.12137344e-03, 9.75106362e-04, 8.47917885e-04, 7.37319413e-04,\n",
              "        6.41146972e-04, 5.57518864e-04, 4.84798841e-04, 4.21564089e-04,\n",
              "        3.66577384e-04, 3.18762883e-04, 2.77185073e-04, 2.41030469e-04,\n",
              "        2.09591691e-04, 1.82253630e-04, 1.58481407e-04, 1.37809911e-04,\n",
              "        1.19834700e-04, 1.04204084e-04, 9.06122441e-05, 7.87932539e-05,\n",
              "        6.85158717e-05, 5.95790179e-05, 5.18078410e-05, 4.50502961e-05,\n",
              "        3.91741702e-05, 3.40644956e-05, 2.96213004e-05, 2.57576524e-05,\n",
              "        2.23979585e-05, 1.94764856e-05, 1.69360744e-05, 1.47270212e-05,\n",
              "        1.28061054e-05, 1.11357438e-05, 9.68325546e-06, 8.42022213e-06,\n",
              "        7.32193228e-06, 6.36689763e-06, 5.53643272e-06, 4.81428932e-06,\n",
              "        4.18633854e-06, 3.64029438e-06]))"
            ]
          },
          "metadata": {
            "tags": []
          },
          "execution_count": 89
        }
      ]
    },
    {
      "cell_type": "code",
      "metadata": {
        "id": "7rAgcDxsLvav"
      },
      "source": [
        "Prob_final = []\n",
        "for mm in range(len(M_array)):\n",
        "    Prob_final.append((np.exp(-(delta_x**2.0)/(2.0*sigma2_final[mm].real)))/(np.sqrt(2.0*np.pi*sigma2_final[mm].real)))"
      ],
      "execution_count": 90,
      "outputs": []
    },
    {
      "cell_type": "markdown",
      "metadata": {
        "id": "NwgOMvhILvav"
      },
      "source": [
        "# the fraction of the total energy density collapsing into PBHs of mass M.\n",
        "## $\\beta(M) = 2 \\int^\\infty_{\\delta_c} \\mathcal{lP}(\\delta) \\, d\\delta $"
      ]
    },
    {
      "cell_type": "code",
      "metadata": {
        "id": "fd2NNpkiLvav"
      },
      "source": [
        "from scipy import special"
      ],
      "execution_count": 91,
      "outputs": []
    },
    {
      "cell_type": "code",
      "metadata": {
        "colab": {
          "base_uri": "https://localhost:8080/"
        },
        "id": "s9DSirn-Lvav",
        "outputId": "1170dc15-7ff3-4448-aa75-89a6f4f418cd"
      },
      "source": [
        "len(M_array), len(delta_crit_Marti), len(sigma2_end), len(delta_crit_Venin)"
      ],
      "execution_count": 92,
      "outputs": [
        {
          "output_type": "execute_result",
          "data": {
            "text/plain": [
              "(98, 98, 98, 98)"
            ]
          },
          "metadata": {
            "tags": []
          },
          "execution_count": 92
        }
      ]
    },
    {
      "cell_type": "code",
      "metadata": {
        "id": "xosSrBr7f0cf"
      },
      "source": [
        "beta_erfc_PS = []\n",
        "beta_erfc_Venin = []\n",
        "beta_erfc_Marti = []\n",
        "\n",
        "for mm in range(len(M_array)):\n",
        "    beta_erfc_PS.append(special.erfc(delta_crit/(np.sqrt(2.0*sigma2_final[mm]))))\n",
        "    beta_erfc_Venin.append(special.erfc(delta_crit_Venin[mm]/(np.sqrt(2.0*sigma2_final[mm]))))\n",
        "    beta_erfc_Marti.append(special.erfc(delta_crit_Marti[mm]/(np.sqrt(2.0*sigma2_final[mm]))))\n",
        "\n",
        "\n",
        "beta_erfc_PS = np.array(beta_erfc_PS)\n",
        "beta_erfc_Venin = np.array(beta_erfc_Venin)\n",
        "beta_erfc_Marti = np.array(beta_erfc_Marti)"
      ],
      "execution_count": 93,
      "outputs": []
    },
    {
      "cell_type": "code",
      "metadata": {
        "colab": {
          "base_uri": "https://localhost:8080/"
        },
        "id": "WY1GWG6PLvaw",
        "outputId": "2a816c7f-1a6a-409f-85ab-c33a0a954971"
      },
      "source": [
        "dr_dm = R_array/(3.0*M_array)\n",
        "\n",
        "dP_dr_Venin = np.diff(beta_erfc_Venin)/np.diff(R_array)\n",
        "dP_dr_Marti = np.diff(beta_erfc_Marti)/np.diff(R_array)\n",
        "\n",
        "beta_Venin = -M_array[0:-1]*dr_dm[0:-1]*dP_dr_Venin\n",
        "beta_Marti = -M_array[0:-1]*dr_dm[0:-1]*dP_dr_Marti \n",
        "beta_Marti, beta_Venin"
      ],
      "execution_count": 94,
      "outputs": [
        {
          "output_type": "execute_result",
          "data": {
            "text/plain": [
              "(array([0.00000000e+000, 0.00000000e+000, 0.00000000e+000, 0.00000000e+000,\n",
              "        0.00000000e+000, 0.00000000e+000, 0.00000000e+000, 0.00000000e+000,\n",
              "        0.00000000e+000, 0.00000000e+000, 0.00000000e+000, 0.00000000e+000,\n",
              "        0.00000000e+000, 0.00000000e+000, 0.00000000e+000, 0.00000000e+000,\n",
              "        0.00000000e+000, 0.00000000e+000, 0.00000000e+000, 0.00000000e+000,\n",
              "        0.00000000e+000, 0.00000000e+000, 0.00000000e+000, 0.00000000e+000,\n",
              "        0.00000000e+000, 0.00000000e+000, 0.00000000e+000, 0.00000000e+000,\n",
              "        0.00000000e+000, 0.00000000e+000, 0.00000000e+000, 0.00000000e+000,\n",
              "        0.00000000e+000, 0.00000000e+000, 0.00000000e+000, 0.00000000e+000,\n",
              "        0.00000000e+000, 0.00000000e+000, 0.00000000e+000, 0.00000000e+000,\n",
              "        0.00000000e+000, 0.00000000e+000, 0.00000000e+000, 0.00000000e+000,\n",
              "        0.00000000e+000, 0.00000000e+000, 0.00000000e+000, 0.00000000e+000,\n",
              "        0.00000000e+000, 0.00000000e+000, 0.00000000e+000, 0.00000000e+000,\n",
              "        0.00000000e+000, 0.00000000e+000, 0.00000000e+000, 0.00000000e+000,\n",
              "        0.00000000e+000, 0.00000000e+000, 0.00000000e+000, 0.00000000e+000,\n",
              "        0.00000000e+000, 0.00000000e+000, 0.00000000e+000, 0.00000000e+000,\n",
              "        0.00000000e+000, 0.00000000e+000, 2.04789077e-220, 3.09866207e-119,\n",
              "        6.41855453e-065, 1.22284927e-035, 8.83543378e-020, 3.85801509e-011,\n",
              "        2.14010982e-006, 9.17421012e-004, 2.70792153e-002, 1.71481245e-001,\n",
              "        4.35074597e-001, 6.45675818e-001, 7.05285354e-001, 6.48583188e-001,\n",
              "        5.41871919e-001, 4.29060645e-001, 3.29526316e-001, 2.48632623e-001,\n",
              "        1.85678624e-001, 1.37926696e-001, 1.02296914e-001, 7.59927553e-002,\n",
              "        5.66912821e-002, 4.25597536e-002, 3.22022990e-002, 2.45822967e-002,\n",
              "        1.89432633e-002, 1.47392372e-002, 1.15785023e-002, 9.18050607e-003,\n",
              "        7.34403584e-003]),\n",
              " array([0., 0., 0., 0., 0., 0., 0., 0., 0., 0., 0., 0., 0., 0., 0., 0., 0.,\n",
              "        0., 0., 0., 0., 0., 0., 0., 0., 0., 0., 0., 0., 0., 0., 0., 0., 0.,\n",
              "        0., 0., 0., 0., 0., 0., 0., 0., 0., 0., 0., 0., 0., 0., 0., 0., 0.,\n",
              "        0., 0., 0., 0., 0., 0., 0., 0., 0., 0., 0., 0., 0., 0., 0., 0., 0.,\n",
              "        0., 0., 0., 0., 0., 0., 0., 0., 0., 0., 0., 0., 0., 0., 0., 0., 0.,\n",
              "        0., 0., 0., 0., 0., 0., 0., 0., 0., 0., 0., 0.]))"
            ]
          },
          "metadata": {
            "tags": []
          },
          "execution_count": 94
        }
      ]
    },
    {
      "cell_type": "code",
      "metadata": {
        "id": "uhbMUjTvLvaw"
      },
      "source": [
        ""
      ],
      "execution_count": 94,
      "outputs": []
    },
    {
      "cell_type": "code",
      "metadata": {
        "id": "pOJ-q5GjLvax"
      },
      "source": [
        "M_constraint = np.linspace(1.0, 10.0**11.0, 1000)\n",
        "ZEROS = np.zeros(1000)\n",
        "beta_constraint = (8.0*10.0**(-28.0)*(M_constraint))"
      ],
      "execution_count": 95,
      "outputs": []
    },
    {
      "cell_type": "code",
      "metadata": {
        "colab": {
          "base_uri": "https://localhost:8080/",
          "height": 638
        },
        "id": "vljdkQ0ALvax",
        "outputId": "b729da73-2b00-4a8c-d223-25982263ed81"
      },
      "source": [
        "figure, ax = plt.subplots(1, 1,figsize = (12,8),  sharex=True)\n",
        "\n",
        "\n",
        "plt.plot(1000.0*M_array*2.1764*(10.0**(-8.0)) , np.log10(beta_erfc_PS),  '-' , lw=2.0, color='black')\n",
        "\n",
        "plt.plot(1000.0*M_array[0:-1]*2.1764*(10.0**(-8.0)) , np.log10(beta_Marti),  '-' , lw=2.0, color='magenta')\n",
        "\n",
        "plt.plot(1000.0*M_array[0:-1]*2.1764*(10.0**(-8.0)) , np.log10(beta_Venin),  '-' , lw=2.0, color='blue')\n",
        "\n",
        "\n",
        "plt.plot(1000.0*M_constraint*2.1764*(10.0**(-8.0)) , np.log10(beta_constraint),  '-', lw = 2 , color='red')\n",
        "\n",
        "\n",
        "ax.fill_between(1000.0*M_constraint*2.1764*(10.0**(-8.0)), np.log10(beta_constraint),ZEROS,color='red', alpha=0.25)\n",
        "\n",
        "plt.xlabel(r'$M \\, [g]$',fontsize=25)\n",
        "plt.ylabel(r'$log_{_{10}}(\\beta)$',fontsize=25)\n",
        "#plt.yscale('log')\n",
        "plt.xscale('log')\n",
        "plt.xticks(fontsize=20)\n",
        "plt.yticks(fontsize=20)\n",
        "#plt.xlim(1000.0*4.341*(10.0**(-9.0)),10**-1)\n",
        "plt.ylim(-100.0,0.0)\n",
        "\n",
        "#leg1 = plt.legend( loc='lower left', frameon=True,  fontsize = 14, borderpad=0.5, labelspacing=0.5)\n",
        "#leg1.get_frame().set_edgecolor('black')\n",
        "\n",
        "plt.grid('on', ls = 'dotted')\n",
        "#plt.savefig('abundances_Hend.pdf')\n",
        "\n",
        "plt.show()"
      ],
      "execution_count": 96,
      "outputs": [
        {
          "output_type": "stream",
          "text": [
            "/usr/local/lib/python3.7/dist-packages/ipykernel_launcher.py:4: RuntimeWarning: divide by zero encountered in log10\n",
            "  after removing the cwd from sys.path.\n",
            "/usr/local/lib/python3.7/dist-packages/ipykernel_launcher.py:6: RuntimeWarning: divide by zero encountered in log10\n",
            "  \n",
            "/usr/local/lib/python3.7/dist-packages/ipykernel_launcher.py:8: RuntimeWarning: divide by zero encountered in log10\n",
            "  \n"
          ],
          "name": "stderr"
        },
        {
          "output_type": "display_data",
          "data": {
            "image/png": "[encoded data removed]",
            "text/plain": [
              "<Figure size 864x576 with 1 Axes>"
            ]
          },
          "metadata": {
            "tags": [],
            "needs_background": "light"
          }
        }
      ]
    },
    {
      "cell_type": "code",
      "metadata": {
        "colab": {
          "base_uri": "https://localhost:8080/"
        },
        "id": "_CF9GsnnLvax",
        "outputId": "e8072805-803f-4f43-9104-32b3d9bd3196"
      },
      "source": [
        "H_end, e_folds"
      ],
      "execution_count": 97,
      "outputs": [
        {
          "output_type": "execute_result",
          "data": {
            "text/plain": [
              "(5.773502691896259e-10, 3.0)"
            ]
          },
          "metadata": {
            "tags": []
          },
          "execution_count": 97
        }
      ]
    },
    {
      "cell_type": "code",
      "metadata": {
        "id": "ARh9hxqwLvax",
        "colab": {
          "base_uri": "https://localhost:8080/"
        },
        "outputId": "c9307461-e176-4861-dde3-cb367d66493d"
      },
      "source": [
        "len(beta_Venin) , len(M_array)"
      ],
      "execution_count": 98,
      "outputs": [
        {
          "output_type": "execute_result",
          "data": {
            "text/plain": [
              "(97, 98)"
            ]
          },
          "metadata": {
            "tags": []
          },
          "execution_count": 98
        }
      ]
    },
    {
      "cell_type": "code",
      "metadata": {
        "id": "mkXzgyzRLvax"
      },
      "source": [
        "Omega_PBH_Venin = []\n",
        "Omega_PBH_Marti = []\n",
        "beta_Venin_norm = []\n",
        "beta_Marti_norm = []\n",
        "\n",
        "M_PBH_Venin = []\n",
        "M_PBH_Marti = []\n",
        "\n",
        "for mm in range(len(M_array)-1):\n",
        "  mm = mm + 1\n",
        "  integral_venin = -1.0*integrate.simps(beta_Venin[0:mm]/M_array[0:mm], M_array[0:mm])\n",
        "  integral_marti = -1.0*integrate.simps(beta_Marti[0:mm]/M_array[0:mm], M_array[0:mm])  \n",
        "  if 0.0<integral_venin<1.0:\n",
        "    Omega_PBH_Venin.append(integral_venin)\n",
        "    M_PBH_Venin.append(M_array[mm])\n",
        "    beta_Venin_norm.append(beta_Venin[mm-1])\n",
        "  if 0.0<integral_marti<1.0:\n",
        "    Omega_PBH_Marti.append(integral_marti)\n",
        "    M_PBH_Marti.append(M_array[mm])\n",
        "    beta_Marti_norm.append(beta_Marti[mm])\n",
        "  else: \n",
        "    continue"
      ],
      "execution_count": 99,
      "outputs": []
    },
    {
      "cell_type": "code",
      "metadata": {
        "id": "jDMvLHHGUuSU",
        "colab": {
          "base_uri": "https://localhost:8080/"
        },
        "outputId": "69792e58-8531-43c0-a648-f66458169a7f"
      },
      "source": [
        "Omega_PBH_Marti = np.array(Omega_PBH_Marti)\n",
        "Omega_PBH_Venin = np.array(Omega_PBH_Venin)\n",
        "M_PBH_Marti = np.array(M_PBH_Marti)\n",
        "M_PBH_Venin = np.array(M_PBH_Venin)\n",
        "len(M_PBH_Marti) , len(M_PBH_Venin)"
      ],
      "execution_count": 100,
      "outputs": [
        {
          "output_type": "execute_result",
          "data": {
            "text/plain": [
              "(24, 0)"
            ]
          },
          "metadata": {
            "tags": []
          },
          "execution_count": 100
        }
      ]
    },
    {
      "cell_type": "code",
      "metadata": {
        "id": "e3MfdiBOUvIf"
      },
      "source": [
        "t_sec = t_array*1.35*10**(-43)\n",
        "t_eva = (4.8*10**(-27))*(1000.0*M_array*2.1764*(10.0**(-8.0)))**3.0 "
      ],
      "execution_count": 101,
      "outputs": []
    },
    {
      "cell_type": "code",
      "metadata": {
        "id": "pOOUbS8aWU-_",
        "colab": {
          "base_uri": "https://localhost:8080/",
          "height": 532
        },
        "outputId": "fb344ca1-f3fd-4d48-b781-0b6bf0aea1f7"
      },
      "source": [
        "figure, ax = plt.subplots(1, 1,figsize = (12,8),  sharex=True)\n",
        "\n",
        "plt.plot( 1000.0*M_PBH_Marti*2.1764*(10.0**(-8.0)), Omega_PBH_Marti,  '-' , color='magenta', label ='Marti')\n",
        "plt.plot( 1000.0*M_PBH_Venin*2.1764*(10.0**(-8.0)), Omega_PBH_Venin,  '-' , color='blue', label ='Venin')\n",
        "\n",
        "\n",
        "plt.ylabel(r'$\\Omega_{PBH}(t_{_{\\rm osc}})$',fontsize=30)\n",
        "\n",
        "plt.xlabel(r'$M [g]$',fontsize=30)\n",
        "#plt.yscale('log')\n",
        "plt.xscale('log')\n",
        "plt.xticks(fontsize=20)\n",
        "plt.yticks(fontsize=20)\n",
        "\n",
        "\n",
        "#plt.ylim(10.0**-20,1.0)\n",
        "leg1 = plt.legend(loc='upper right', frameon=True,  fontsize = 22, borderpad=0.5, labelspacing=0.5)\n",
        "leg1.get_frame().set_edgecolor('black')\n",
        "\n",
        "plt.grid('on', ls = 'dotted')\n",
        "plt.show()"
      ],
      "execution_count": 102,
      "outputs": [
        {
          "output_type": "display_data",
          "data": {
            "image/png": "[encoded data removed]",
            "text/plain": [
              "<Figure size 864x576 with 1 Axes>"
            ]
          },
          "metadata": {
            "tags": [],
            "needs_background": "light"
          }
        }
      ]
    },
    {
      "cell_type": "code",
      "metadata": {
        "id": "s5ZbzalFUvwl",
        "colab": {
          "base_uri": "https://localhost:8080/"
        },
        "outputId": "b515c404-8cc3-4f60-944a-c2389b18d18c"
      },
      "source": [
        "t_eva_Marti = t_f*(5.39*10.0**(-44)) + ((5.39*10.0**(-44))*(M_PBH_Marti)**3.0)\n",
        "t_eva_Marti"
      ],
      "execution_count": 103,
      "outputs": [
        {
          "output_type": "execute_result",
          "data": {
            "text/plain": [
              "array([2.02989782e-25, 1.08226573e-25, 5.77023691e-26, 3.07647506e-26,\n",
              "       1.64026186e-26, 8.74526623e-27, 4.66265194e-27, 2.48595448e-27,\n",
              "       1.32542070e-27, 7.06667428e-28, 3.76771294e-28, 2.00882997e-28,\n",
              "       1.07105927e-28, 5.71074953e-29, 3.04501990e-29, 1.62375243e-29,\n",
              "       8.65985696e-30, 4.61972776e-30, 2.46568176e-30, 1.31722489e-30,\n",
              "       7.04910578e-31, 3.78447457e-31, 2.04389514e-31, 1.11588320e-31])"
            ]
          },
          "metadata": {
            "tags": []
          },
          "execution_count": 103
        }
      ]
    },
    {
      "cell_type": "code",
      "metadata": {
        "id": "RUTUrwlQUwLK",
        "colab": {
          "base_uri": "https://localhost:8080/"
        },
        "outputId": "fc47e864-7f36-45bb-fce2-e024905a14e5"
      },
      "source": [
        "t_eva_max = t_eva_Marti[0]\n",
        "t_eq = 10000.0*(3.154*10.0**7.0)\n",
        "t_eva_max, t_eq"
      ],
      "execution_count": 104,
      "outputs": [
        {
          "output_type": "execute_result",
          "data": {
            "text/plain": [
              "(2.0298978196843814e-25, 315400000000.0)"
            ]
          },
          "metadata": {
            "tags": []
          },
          "execution_count": 104
        }
      ]
    },
    {
      "cell_type": "code",
      "metadata": {
        "colab": {
          "base_uri": "https://localhost:8080/"
        },
        "id": "WSQobOP4enN6",
        "outputId": "05f33b8d-dad8-4550-d20b-38d4802edfa8"
      },
      "source": [
        "Omega_bound = 0.5*(t_eq/t_eva_max)**(-1./2.0)\n",
        "Omega_bound"
      ],
      "execution_count": 105,
      "outputs": [
        {
          "output_type": "execute_result",
          "data": {
            "text/plain": [
              "4.011217842137192e-19"
            ]
          },
          "metadata": {
            "tags": []
          },
          "execution_count": 105
        }
      ]
    },
    {
      "cell_type": "code",
      "metadata": {
        "colab": {
          "base_uri": "https://localhost:8080/"
        },
        "id": "pMNI1G1Il992",
        "outputId": "dc26fa18-f00f-49d6-915f-ca146e4deeb5"
      },
      "source": [
        "len(M_PBH_Marti), len(beta_Marti_norm), len(M_PBH_Venin), len(beta_Venin_norm), H_end"
      ],
      "execution_count": 117,
      "outputs": [
        {
          "output_type": "execute_result",
          "data": {
            "text/plain": [
              "(24, 24, 0, 0, 5.773502691896259e-10)"
            ]
          },
          "metadata": {
            "tags": []
          },
          "execution_count": 117
        }
      ]
    },
    {
      "cell_type": "code",
      "metadata": {
        "id": "apOA-cLPiCaW"
      },
      "source": [
        "Omega_relic_Venin = []\n",
        "Omega_relic_Marti = [] \n",
        "\n",
        "for mm in range(len(M_PBH_Venin)):\n",
        "  mm = mm + 1 \n",
        "  integral_relic_Venin = -1.0*integrate.simps(beta_Venin_norm[0:mm]/M_PBH_Venin[0:mm]**2.0, M_PBH_Venin[0:mm])\n",
        "  Omega_relic_Venin.append(integral_relic_Venin)\n",
        "\n",
        "  \n",
        "\n",
        "for mm in range(len(M_PBH_Marti)):\n",
        "  mm = mm + 1\n",
        "  integral_relic_Marti = -1.0*integrate.simps(beta_Marti_norm[0:mm]/M_PBH_Marti[0:mm]**2.0, M_PBH_Marti[0:mm])  \n",
        "  Omega_relic_Marti.append(integral_relic_Marti)"
      ],
      "execution_count": 107,
      "outputs": []
    },
    {
      "cell_type": "code",
      "metadata": {
        "colab": {
          "base_uri": "https://localhost:8080/"
        },
        "id": "Y-T2Jh47Fcke",
        "outputId": "6bd6cbcd-e418-44cc-b01a-ef7d5b8f6160"
      },
      "source": [
        "M_array, M_PBH_Marti"
      ],
      "execution_count": 113,
      "outputs": [
        {
          "output_type": "execute_result",
          "data": {
            "text/plain": [
              "(array([1.95927211e+12, 1.58872231e+12, 1.28825321e+12, 1.04461071e+12,\n",
              "        8.47047399e+11, 6.86848498e+11, 5.56947415e+11, 4.51614037e+11,\n",
              "        3.66201966e+11, 2.96943560e+11, 2.40783737e+11, 1.95245211e+11,\n",
              "        1.58319215e+11, 1.28376895e+11, 1.04097454e+11, 8.44098926e+10,\n",
              "        6.84457658e+10, 5.55008745e+10, 4.50042021e+10, 3.64927259e+10,\n",
              "        2.95909934e+10, 2.39945597e+10, 1.94565585e+10, 1.57768125e+10,\n",
              "        1.27930030e+10, 1.03735103e+10, 8.41160715e+09, 6.82075141e+09,\n",
              "        5.53076824e+09, 4.48475477e+09, 3.63656990e+09, 2.94879906e+09,\n",
              "        2.39110374e+09, 1.93888325e+09, 1.57218952e+09, 1.27484721e+09,\n",
              "        1.03374013e+09, 8.38232733e+08, 6.79700916e+08, 5.51151628e+08,\n",
              "        4.46914386e+08, 3.62391142e+08, 2.93853463e+08, 2.38278058e+08,\n",
              "        1.93213422e+08, 1.56671691e+08, 1.27040961e+08, 1.03014180e+08,\n",
              "        8.35314942e+07, 6.77334956e+07, 5.49233134e+07, 4.45358729e+07,\n",
              "        3.61129701e+07, 2.92830593e+07, 2.37448640e+07, 1.92540868e+07,\n",
              "        1.56126335e+07, 1.26598746e+07, 1.02655600e+07, 8.32407308e+06,\n",
              "        6.74977232e+06, 5.47321317e+06, 4.43808487e+06, 3.59872650e+06,\n",
              "        2.91811284e+06, 2.36622109e+06, 1.91870656e+06, 1.55582878e+06,\n",
              "        1.26158071e+06, 1.02298268e+06, 8.29509795e+05, 6.72627715e+05,\n",
              "        5.45416155e+05, 4.42263641e+05, 3.58619975e+05, 2.90795523e+05,\n",
              "        2.35798455e+05, 1.91202777e+05, 1.55041312e+05, 1.25718929e+05,\n",
              "        1.01942179e+05, 8.26622367e+04, 6.70286376e+04, 5.43517625e+04,\n",
              "        4.40724172e+04, 3.57371661e+04, 2.89783297e+04, 2.34977668e+04,\n",
              "        1.90537222e+04, 1.54501631e+04, 1.25281316e+04, 1.01587330e+04,\n",
              "        8.23744991e+03, 6.67953187e+03, 5.41625703e+03, 4.39190063e+03,\n",
              "        3.56127692e+03, 2.88774595e+03]),\n",
              " array([1555828.77673578, 1261580.70878675, 1022982.67558858,\n",
              "         829509.79455034,  672627.7146962 ,  545416.15487817,\n",
              "         442263.64079638,  358619.97526304,  290795.52283809,\n",
              "         235798.45500981,  191202.77658459,  155041.31175133,\n",
              "         125718.92929044,  101942.17917405,   82662.23673243,\n",
              "          67028.63757643,   54351.76246071,   44072.4172443 ,\n",
              "          35737.1660792 ,   28978.32974064,   23497.76679819,\n",
              "          19053.72219324,   15450.16309571,   12528.1316303 ]))"
            ]
          },
          "metadata": {
            "tags": []
          },
          "execution_count": 113
        }
      ]
    },
    {
      "cell_type": "code",
      "metadata": {
        "colab": {
          "base_uri": "https://localhost:8080/"
        },
        "id": "wWnq1nrOkC-L",
        "outputId": "e0541120-6d91-4d2f-e899-8706ea9a94a1"
      },
      "source": [
        "Omega_relic_Marti = np.array(Omega_relic_Marti)\n",
        "Omega_relic_Venin = np.array(Omega_relic_Venin)\n",
        "\n",
        "Omega_relic_Marti, Omega_relic_Venin"
      ],
      "execution_count": 109,
      "outputs": [
        {
          "output_type": "execute_result",
          "data": {
            "text/plain": [
              "(array([-0.00000000e+00,  5.93322449e-72,  7.95696989e-43,  9.75578888e-27,\n",
              "         3.81796756e-18,  3.59401221e-13,  1.39196958e-10,  7.37925197e-09,\n",
              "         6.10290447e-08,  3.16702338e-07,  8.51106851e-07,  1.69588156e-06,\n",
              "         2.71874354e-06,  3.82428159e-06,  4.92763844e-06,  5.98978019e-06,\n",
              "         6.98400095e-06,  7.90603757e-06,  8.75077619e-06,  9.52562901e-06,\n",
              "         1.02329725e-05,  1.08839734e-05,  1.14828711e-05,  1.20412684e-05]),\n",
              " array([], dtype=float64))"
            ]
          },
          "metadata": {
            "tags": []
          },
          "execution_count": 109
        }
      ]
    },
    {
      "cell_type": "code",
      "metadata": {
        "colab": {
          "base_uri": "https://localhost:8080/"
        },
        "id": "7NJL1_APU40H",
        "outputId": "5ce369b4-6a39-453a-c29b-c0f0ec90cadf"
      },
      "source": [
        "Omega_relic = -1.0*integrate.simps(beta_Marti_norm/M_PBH_Marti**2.0, M_PBH_Marti)  \n",
        "Omega_bound, Omega_relic"
      ],
      "execution_count": 116,
      "outputs": [
        {
          "output_type": "execute_result",
          "data": {
            "text/plain": [
              "(4.011217842137192e-19, 1.204126839077552e-05)"
            ]
          },
          "metadata": {
            "tags": []
          },
          "execution_count": 116
        }
      ]
    },
    {
      "cell_type": "code",
      "metadata": {
        "colab": {
          "base_uri": "https://localhost:8080/",
          "height": 532
        },
        "id": "N7r2D7JTtU2S",
        "outputId": "11196228-96f2-4998-800c-ac357f79e103"
      },
      "source": [
        "figure, ax = plt.subplots(1, 1,figsize = (12,8),  sharex=True)\n",
        "\n",
        "plt.plot( 1000.0*M_PBH_Marti*2.1764*(10.0**(-8.0)), Omega_relic_Marti,  '-' , color='magenta', label ='Marti')\n",
        "plt.plot( 1000.0*M_PBH_Venin*2.1764*(10.0**(-8.0)), Omega_relic_Venin,  '-' , color='blue', label ='Venin')\n",
        "\n",
        "\n",
        "plt.ylabel(r'$\\Omega_{\\rm relic}$',fontsize=30)\n",
        "\n",
        "plt.xlabel(r'$M [g]$',fontsize=30)\n",
        "plt.yscale('log')\n",
        "plt.xscale('log')\n",
        "plt.xticks(fontsize=20)\n",
        "plt.yticks(fontsize=20)\n",
        "\n",
        "\n",
        "plt.ylim(10.0**-20,1.0)\n",
        "leg1 = plt.legend(loc='upper right', frameon=True,  fontsize = 22, borderpad=0.5, labelspacing=0.5)\n",
        "leg1.get_frame().set_edgecolor('black')\n",
        "\n",
        "plt.grid('on', ls = 'dotted')\n",
        "plt.show()"
      ],
      "execution_count": 110,
      "outputs": [
        {
          "output_type": "display_data",
          "data": {
            "image/png": "[encoded data removed]",
            "text/plain": [
              "<Figure size 864x576 with 1 Axes>"
            ]
          },
          "metadata": {
            "tags": [],
            "needs_background": "light"
          }
        }
      ]
    },
    {
      "cell_type": "code",
      "metadata": {
        "id": "wwl9ey2Stk4p",
        "colab": {
          "base_uri": "https://localhost:8080/"
        },
        "outputId": "2c68fc32-9282-4b9b-d8c0-374f6e899522"
      },
      "source": [
        "t_array[-1]*1.35*10**(-43) - t_array[0]*1.35*10**(-43)"
      ],
      "execution_count": 111,
      "outputs": [
        {
          "output_type": "execute_result",
          "data": {
            "text/plain": [
              "1.3876397474088024e-32"
            ]
          },
          "metadata": {
            "tags": []
          },
          "execution_count": 111
        }
      ]
    },
    {
      "cell_type": "code",
      "metadata": {
        "id": "xx7LZ_8ozF7P",
        "colab": {
          "base_uri": "https://localhost:8080/",
          "height": 164
        },
        "outputId": "22625dd8-fc23-4e62-ac00-c26a06b169b9"
      },
      "source": [
        "Omega_PBH2"
      ],
      "execution_count": 112,
      "outputs": [
        {
          "output_type": "error",
          "ename": "NameError",
          "evalue": "ignored",
          "traceback": [
            "\u001b[0;31m---------------------------------------------------------------------------\u001b[0m",
            "\u001b[0;31mNameError\u001b[0m                                 Traceback (most recent call last)",
            "\u001b[0;32m<ipython-input-112-975c00de865e>\u001b[0m in \u001b[0;36m<module>\u001b[0;34m()\u001b[0m\n\u001b[0;32m----> 1\u001b[0;31m \u001b[0mOmega_PBH2\u001b[0m\u001b[0;34m\u001b[0m\u001b[0;34m\u001b[0m\u001b[0m\n\u001b[0m",
            "\u001b[0;31mNameError\u001b[0m: name 'Omega_PBH2' is not defined"
          ]
        }
      ]
    },
    {
      "cell_type": "code",
      "metadata": {
        "id": "qZYMgFv3zF5P"
      },
      "source": [
        ""
      ],
      "execution_count": null,
      "outputs": []
    },
    {
      "cell_type": "code",
      "metadata": {
        "id": "rPAAuvMazF3A"
      },
      "source": [
        ""
      ],
      "execution_count": null,
      "outputs": []
    },
    {
      "cell_type": "code",
      "metadata": {
        "id": "kX1B-i1JzF0o"
      },
      "source": [
        ""
      ],
      "execution_count": null,
      "outputs": []
    },
    {
      "cell_type": "code",
      "metadata": {
        "id": "7urFdC7xzFr9"
      },
      "source": [
        ""
      ],
      "execution_count": null,
      "outputs": []
    },
    {
      "cell_type": "code",
      "metadata": {
        "id": "PBH3A9gNzFcb"
      },
      "source": [
        ""
      ],
      "execution_count": null,
      "outputs": []
    },
    {
      "cell_type": "code",
      "metadata": {
        "id": "0wqhzgwWwW7y"
      },
      "source": [
        "\n",
        "# Python program to implement Runge Kutta method \n",
        "# A sample differential equation \"dy / dx = (x - y)/2\" \n",
        "def dydx(x, y): \n",
        "    return ((x - y)/2) \n",
        "  \n",
        "# Finds value of y for a given x using step size h \n",
        "# and initial value y0 at x0. \n",
        "def rungeKutta(x0, y0, x, h): \n",
        "    # Count number of iterations using step size or \n",
        "    # step height h \n",
        "    n = (int)((x - x0)/h)  \n",
        "    # Iterate for number of iterations \n",
        "    y = y0 \n",
        "    for i in range(1, n + 1): \n",
        "        \"Apply Runge Kutta Formulas to find next value of y\"\n",
        "        k1 = h * dydx(x0, y) \n",
        "        k2 = h * dydx(x0 + 0.5 * h, y + 0.5 * k1) \n",
        "        k3 = h * dydx(x0 + 0.5 * h, y + 0.5 * k2) \n",
        "        k4 = h * dydx(x0 + h, y + k3) \n",
        "  \n",
        "        # Update next value of y \n",
        "        y = y + (1.0 / 6.0)*(k1 + 2 * k2 + 2 * k3 + k4) \n",
        "  \n",
        "        # Update next value of x \n",
        "        x0 = x0 + h \n",
        "    return y \n",
        "  \n",
        "# Driver method \n",
        "x0 = 0\n",
        "y = 1\n",
        "x = 2\n",
        "h = 0.2\n",
        "print ('The value of y at x is:', rungeKutta(x0, y, x, h)) \n"
      ],
      "execution_count": null,
      "outputs": []
    },
    {
      "cell_type": "code",
      "metadata": {
        "id": "3g88tTTHnzrS"
      },
      "source": [
        ""
      ],
      "execution_count": null,
      "outputs": []
    }
  ]
}