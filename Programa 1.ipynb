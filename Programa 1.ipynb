{
 "cells": [
  {
   "cell_type": "code",
   "execution_count": 9,
   "metadata": {},
   "outputs": [
    {
     "name": "stdout",
     "output_type": "stream",
     "text": [
      "\n",
      "Dame un numero entero:20\n",
      "La suma de números multiplos de 3 y 5 es: 98\n"
     ]
    }
   ],
   "source": [
    "#Esté programa obtiene la suma de los multiplos de 3 y 5 de un número cualquiera.\n",
    "\n",
    "import numpy as np\n",
    "\n",
    "def suma(x):\n",
    "    if x<3: \n",
    "        return 'No es multiplo de 3 ni 5'\n",
    "    sum=0\n",
    "    for i in range(x+1):\n",
    "        if i%3==0 or i%5==0:    #Si el residuo de la división de los multiplos 3 y 5 es 0 \n",
    "            sum = sum + i \n",
    "    return sum\n",
    "\n",
    "a = int(input( \"Dame un numero entero:\"))\n",
    "\n",
    "print 'La suma de números multiplos de 3 y 5 es:', suma(a)"
   ]
  },
  {
   "cell_type": "code",
   "execution_count": 67,
   "metadata": {},
   "outputs": [
    {
     "name": "stdout",
     "output_type": "stream",
     "text": [
      "Los primeros 100 números primos: 2 3 5 7 11 13 17 19 23 29 31 37 41 43 47 53 59 61 67 71 73 79 83 89 97\n",
      "Dame un numero entero:41\n",
      "Si es un número primo\n"
     ]
    }
   ],
   "source": [
    "#Esté programa nos dice si un número es primo o no\n",
    "print 'Los primeros 100 números primos:', 2, 3, 5, 7, 11, 13, 17, 19, 23, 29, 31, 37, 41, 43, 47, 53, 59, 61, 67, 71, 73, 79, 83, 89, 97\n",
    "\n",
    "def test(x): \n",
    "    if x<2:\n",
    "        return 'No es un número primo'\n",
    "    if x==2:\n",
    "        return 'Si es un número primo'\n",
    "    else:\n",
    "        for i in range(2,x):\n",
    "            if x%i == 0:       #Si el residuo con otro número es 0 entonces no es primo.\n",
    "                return 'No es un número primo'\n",
    "            if(i == x-1):\n",
    "                return 'Si es un número primo'\n",
    "\n",
    "a = int(input( \"Dame un numero entero:\"))\n",
    "print test(a)\n"
   ]
  },
  {
   "cell_type": "code",
   "execution_count": null,
   "metadata": {},
   "outputs": [],
   "source": []
  }
 ],
 "metadata": {
  "kernelspec": {
   "display_name": "Python 2",
   "language": "python",
   "name": "python2"
  },
  "language_info": {
   "codemirror_mode": {
    "name": "ipython",
    "version": 2
   },
   "file_extension": ".py",
   "mimetype": "text/x-python",
   "name": "python",
   "nbconvert_exporter": "python",
   "pygments_lexer": "ipython2",
   "version": "2.7.15"
  }
 },
 "nbformat": 4,
 "nbformat_minor": 2
}
